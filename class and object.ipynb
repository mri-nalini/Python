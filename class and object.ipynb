{
 "cells": [
  {
   "cell_type": "code",
   "execution_count": 7,
   "id": "bebe1700",
   "metadata": {},
   "outputs": [
    {
     "name": "stdout",
     "output_type": "stream",
     "text": [
      "enter id101\n",
      "enter namemrinalini das\n",
      "enter salary50000\n",
      "101\n",
      "mrinalini das\n",
      "50000\n"
     ]
    }
   ],
   "source": [
    "class employee:\n",
    "    def putdata(self):\n",
    "        self.id=int(input(\"enter id\"))\n",
    "        self.name=input(\"enter name\")\n",
    "        self.salary=int(input(\"enter salary\"))\n",
    "    def display(self):\n",
    "        print(self.id)\n",
    "        print(self.name)\n",
    "        print(self.salary)\n",
    "\n",
    "a=employee()\n",
    "a.putdata()\n",
    "a.display()"
   ]
  },
  {
   "cell_type": "markdown",
   "id": "60977ab1",
   "metadata": {},
   "source": [
    "### The  *__ init __()* function"
   ]
  },
  {
   "cell_type": "markdown",
   "id": "bfb7b5dd",
   "metadata": {},
   "source": [
    "* initialize object of a class\n",
    "*  All classes have a function called _init_(), which is always executed when the class is being initiated.\n",
    "* __ init __ () function is used to assign values to object properties, or other operations that are necessary to do when the object is being created:"
   ]
  },
  {
   "cell_type": "code",
   "execution_count": 22,
   "id": "2242105b",
   "metadata": {},
   "outputs": [
    {
     "name": "stdout",
     "output_type": "stream",
     "text": [
      "Mrinalini Das\n",
      "1726569\n",
      "[70, 70, 90, 40, 50]\n",
      "64.0\n"
     ]
    }
   ],
   "source": [
    "class student:\n",
    "    def __init__(self,my_roll,my_name,my_marks):\n",
    "        self.roll=my_roll  # these are variables*\n",
    "        self.name=my_name  # these are properties of the class.\n",
    "        self.marks=my_marks\n",
    "    #these are variables/data on which we do some actions. in class we say them property.   \n",
    "    \n",
    "    def average(self): return sum(self.marks)/len(self.marks) #methods\n",
    "\n",
    "first_student = student(1726569,'Mrinalini Das',[70,70,90,40,50])\n",
    "print(first_student.name)\n",
    "print(first_student.roll)\n",
    "print(first_student.marks)\n",
    "print(first_student.average())"
   ]
  },
  {
   "cell_type": "code",
   "execution_count": null,
   "id": "65658800",
   "metadata": {},
   "outputs": [],
   "source": []
  }
 ],
 "metadata": {
  "kernelspec": {
   "display_name": "Python 3 (ipykernel)",
   "language": "python",
   "name": "python3"
  },
  "language_info": {
   "codemirror_mode": {
    "name": "ipython",
    "version": 3
   },
   "file_extension": ".py",
   "mimetype": "text/x-python",
   "name": "python",
   "nbconvert_exporter": "python",
   "pygments_lexer": "ipython3",
   "version": "3.11.4"
  }
 },
 "nbformat": 4,
 "nbformat_minor": 5
}
