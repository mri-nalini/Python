{
 "cells": [
  {
   "cell_type": "code",
   "execution_count": 8,
   "id": "1ef532e1",
   "metadata": {},
   "outputs": [
    {
     "name": "stdout",
     "output_type": "stream",
     "text": [
      "Enter your name:Mrinal\n"
     ]
    },
    {
     "data": {
      "text/plain": [
       "'Mrinal'"
      ]
     },
     "execution_count": 8,
     "metadata": {},
     "output_type": "execute_result"
    }
   ],
   "source": [
    "input(\"Enter your name:\")"
   ]
  },
  {
   "cell_type": "code",
   "execution_count": 9,
   "id": "c3995fe1",
   "metadata": {},
   "outputs": [
    {
     "name": "stdout",
     "output_type": "stream",
     "text": [
      "Enter the first Number:3\n",
      "Enter the second number:4\n"
     ]
    }
   ],
   "source": [
    "#add two number\n",
    "\n",
    "first_num = input(\"Enter the first Number:\")\n",
    "sec_num  = input(\"Enter the second number:\")"
   ]
  },
  {
   "cell_type": "code",
   "execution_count": 21,
   "id": "9547c91c",
   "metadata": {},
   "outputs": [
    {
     "name": "stdout",
     "output_type": "stream",
     "text": [
      "34\n"
     ]
    }
   ],
   "source": [
    "result= first_num +sec_num\n",
    "print(result)"
   ]
  },
  {
   "cell_type": "code",
   "execution_count": 10,
   "id": "2ca9e790",
   "metadata": {},
   "outputs": [
    {
     "name": "stdout",
     "output_type": "stream",
     "text": [
      "34\n"
     ]
    }
   ],
   "source": [
    "print(first_num+sec_num)   #ye toh concatenation ho gaya"
   ]
  },
  {
   "cell_type": "markdown",
   "id": "312bb18c",
   "metadata": {},
   "source": [
    "why did we get this in 46 as answer as becuse it came in the format of the string \n",
    "\n",
    "we are taking input from user. and user hamesha string format m input dega. \n",
    "also String can accept numeric, boolean or text."
   ]
  },
  {
   "cell_type": "code",
   "execution_count": 11,
   "id": "5efe3371",
   "metadata": {},
   "outputs": [
    {
     "data": {
      "text/plain": [
       "str"
      ]
     },
     "execution_count": 11,
     "metadata": {},
     "output_type": "execute_result"
    }
   ],
   "source": [
    "type(first_num)"
   ]
  },
  {
   "cell_type": "markdown",
   "id": "ffeced0d",
   "metadata": {},
   "source": [
    "#now will do TYPE- CONVERSION\n",
    "\n",
    "\n",
    "## implicit\n",
    "python automatically detectes the type of the variable\n",
    "e.g.: 4 + 5.5 =9.5 (float)\n",
    "\n",
    "## explicit\n",
    "we ask to change the type of the varaible according to us. "
   ]
  },
  {
   "cell_type": "code",
   "execution_count": 12,
   "id": "b24c1f36",
   "metadata": {},
   "outputs": [
    {
     "data": {
      "text/plain": [
       "4"
      ]
     },
     "execution_count": 12,
     "metadata": {},
     "output_type": "execute_result"
    }
   ],
   "source": [
    "# int\n",
    "\n",
    "int(4.5)"
   ]
  },
  {
   "cell_type": "code",
   "execution_count": 13,
   "id": "b153157a",
   "metadata": {},
   "outputs": [
    {
     "data": {
      "text/plain": [
       "4.0"
      ]
     },
     "execution_count": 13,
     "metadata": {},
     "output_type": "execute_result"
    }
   ],
   "source": [
    "float(4)"
   ]
  },
  {
   "cell_type": "code",
   "execution_count": 14,
   "id": "7c5d3796",
   "metadata": {},
   "outputs": [
    {
     "data": {
      "text/plain": [
       "'5'"
      ]
     },
     "execution_count": 14,
     "metadata": {},
     "output_type": "execute_result"
    }
   ],
   "source": [
    "str(5)"
   ]
  },
  {
   "cell_type": "code",
   "execution_count": 15,
   "id": "a0af585b",
   "metadata": {},
   "outputs": [
    {
     "data": {
      "text/plain": [
       "True"
      ]
     },
     "execution_count": 15,
     "metadata": {},
     "output_type": "execute_result"
    }
   ],
   "source": [
    "bool(1)"
   ]
  },
  {
   "cell_type": "code",
   "execution_count": 16,
   "id": "0d6f4641",
   "metadata": {},
   "outputs": [
    {
     "data": {
      "text/plain": [
       "(4+0j)"
      ]
     },
     "execution_count": 16,
     "metadata": {},
     "output_type": "execute_result"
    }
   ],
   "source": [
    "complex(4)"
   ]
  },
  {
   "cell_type": "code",
   "execution_count": 17,
   "id": "480d7bd4",
   "metadata": {},
   "outputs": [
    {
     "data": {
      "text/plain": [
       "['H', 'e', 'l', 'l', 'o']"
      ]
     },
     "execution_count": 17,
     "metadata": {},
     "output_type": "execute_result"
    }
   ],
   "source": [
    "list('Hello')"
   ]
  },
  {
   "cell_type": "markdown",
   "id": "67ba5241",
   "metadata": {},
   "source": [
    "# Type conversion is not a permanent conversion "
   ]
  },
  {
   "cell_type": "code",
   "execution_count": 18,
   "id": "0bceef75",
   "metadata": {},
   "outputs": [
    {
     "data": {
      "text/plain": [
       "str"
      ]
     },
     "execution_count": 18,
     "metadata": {},
     "output_type": "execute_result"
    }
   ],
   "source": [
    "type(first_num)"
   ]
  },
  {
   "cell_type": "code",
   "execution_count": 19,
   "id": "204b42c4",
   "metadata": {},
   "outputs": [
    {
     "data": {
      "text/plain": [
       "3"
      ]
     },
     "execution_count": 19,
     "metadata": {},
     "output_type": "execute_result"
    }
   ],
   "source": [
    "int(first_num)"
   ]
  },
  {
   "cell_type": "code",
   "execution_count": 20,
   "id": "37e8f338",
   "metadata": {},
   "outputs": [
    {
     "data": {
      "text/plain": [
       "'3'"
      ]
     },
     "execution_count": 20,
     "metadata": {},
     "output_type": "execute_result"
    }
   ],
   "source": [
    "first_num #see after int() still it's a string "
   ]
  },
  {
   "cell_type": "code",
   "execution_count": 22,
   "id": "5633b728",
   "metadata": {},
   "outputs": [
    {
     "name": "stdout",
     "output_type": "stream",
     "text": [
      "Enter the first Number:34\n",
      "Enter the second number:34\n",
      "68\n"
     ]
    }
   ],
   "source": [
    "#add two number\n",
    "\n",
    "first_num = input(\"Enter the first Number:\")\n",
    "sec_num  = input(\"Enter the second number:\")\n",
    "result= int(first_num) +int(sec_num)\n",
    "print(result)"
   ]
  },
  {
   "cell_type": "code",
   "execution_count": 24,
   "id": "10b77323",
   "metadata": {},
   "outputs": [
    {
     "name": "stdout",
     "output_type": "stream",
     "text": [
      "Enter the first Number:1\n",
      "Enter the second number:1\n",
      "2\n"
     ]
    }
   ],
   "source": [
    "#better version of adding two numbers\n",
    "\n",
    "\n",
    "first_num =int( input(\"Enter the first Number:\"))\n",
    "sec_num  = int(input(\"Enter the second number:\"))\n",
    "result= first_num +sec_num\n",
    "print(result)"
   ]
  },
  {
   "cell_type": "code",
   "execution_count": null,
   "id": "59f9d7fb",
   "metadata": {},
   "outputs": [],
   "source": []
  }
 ],
 "metadata": {
  "kernelspec": {
   "display_name": "Python 3 (ipykernel)",
   "language": "python",
   "name": "python3"
  },
  "language_info": {
   "codemirror_mode": {
    "name": "ipython",
    "version": 3
   },
   "file_extension": ".py",
   "mimetype": "text/x-python",
   "name": "python",
   "nbconvert_exporter": "python",
   "pygments_lexer": "ipython3",
   "version": "3.11.4"
  }
 },
 "nbformat": 4,
 "nbformat_minor": 5
}
