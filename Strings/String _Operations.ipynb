{
 "cells": [
  {
   "cell_type": "markdown",
   "id": "d9067680",
   "metadata": {},
   "source": [
    "# Operations on Strings\n",
    "\n",
    "* Arthmetic Operations\n",
    "* Relational Operations\n",
    "* Logical Operations\n",
    "* Loops on Strings\n",
    "* Membership Operations"
   ]
  },
  {
   "cell_type": "code",
   "execution_count": 3,
   "id": "7ab0515e",
   "metadata": {},
   "outputs": [
    {
     "data": {
      "text/plain": [
       "'HelloWorld!'"
      ]
     },
     "execution_count": 3,
     "metadata": {},
     "output_type": "execute_result"
    }
   ],
   "source": [
    "\"Hello\" + \"World!\""
   ]
  },
  {
   "cell_type": "code",
   "execution_count": 4,
   "id": "127dd815",
   "metadata": {},
   "outputs": [
    {
     "data": {
      "text/plain": [
       "'Hello-World!'"
      ]
     },
     "execution_count": 4,
     "metadata": {},
     "output_type": "execute_result"
    }
   ],
   "source": [
    "\"Hello\" + \"-\" + \"World!\""
   ]
  },
  {
   "cell_type": "code",
   "execution_count": 6,
   "id": "2e8764ec",
   "metadata": {},
   "outputs": [
    {
     "name": "stdout",
     "output_type": "stream",
     "text": [
      "**************************************************\n"
     ]
    }
   ],
   "source": [
    "print(\"*\"*50)"
   ]
  },
  {
   "cell_type": "code",
   "execution_count": 8,
   "id": "22ed591c",
   "metadata": {},
   "outputs": [
    {
     "name": "stdout",
     "output_type": "stream",
     "text": [
      "OMOMOMOM\n"
     ]
    }
   ],
   "source": [
    "print(\"OM\"*4)"
   ]
  },
  {
   "cell_type": "code",
   "execution_count": 9,
   "id": "c92bd197",
   "metadata": {},
   "outputs": [
    {
     "data": {
      "text/plain": [
       "False"
      ]
     },
     "execution_count": 9,
     "metadata": {},
     "output_type": "execute_result"
    }
   ],
   "source": [
    "\"Hello\" == \"World\""
   ]
  },
  {
   "cell_type": "code",
   "execution_count": 10,
   "id": "9cc764f3",
   "metadata": {},
   "outputs": [
    {
     "data": {
      "text/plain": [
       "True"
      ]
     },
     "execution_count": 10,
     "metadata": {},
     "output_type": "execute_result"
    }
   ],
   "source": [
    "\"Hello\" != \"World\""
   ]
  },
  {
   "cell_type": "code",
   "execution_count": 11,
   "id": "d19d3450",
   "metadata": {},
   "outputs": [
    {
     "data": {
      "text/plain": [
       "True"
      ]
     },
     "execution_count": 11,
     "metadata": {},
     "output_type": "execute_result"
    }
   ],
   "source": [
    "\"Mumbai\">\"Bangalore\""
   ]
  },
  {
   "cell_type": "code",
   "execution_count": 12,
   "id": "f0d6e20d",
   "metadata": {},
   "outputs": [
    {
     "data": {
      "text/plain": [
       "False"
      ]
     },
     "execution_count": 12,
     "metadata": {},
     "output_type": "execute_result"
    }
   ],
   "source": [
    "\"Mumbai\">\"Pune\""
   ]
  },
  {
   "cell_type": "code",
   "execution_count": 13,
   "id": "158cad0a",
   "metadata": {},
   "outputs": [
    {
     "data": {
      "text/plain": [
       "False"
      ]
     },
     "execution_count": 13,
     "metadata": {},
     "output_type": "execute_result"
    }
   ],
   "source": [
    "\"kol\" == \"Kol\"  #cap is bigger "
   ]
  },
  {
   "cell_type": "code",
   "execution_count": 14,
   "id": "b35810a7",
   "metadata": {},
   "outputs": [
    {
     "data": {
      "text/plain": [
       "'world'"
      ]
     },
     "execution_count": 14,
     "metadata": {},
     "output_type": "execute_result"
    }
   ],
   "source": [
    "\"hello\" and \"world\""
   ]
  },
  {
   "cell_type": "code",
   "execution_count": 15,
   "id": "a744a235",
   "metadata": {},
   "outputs": [
    {
     "data": {
      "text/plain": [
       "''"
      ]
     },
     "execution_count": 15,
     "metadata": {},
     "output_type": "execute_result"
    }
   ],
   "source": [
    "\"\" and \"Hello\""
   ]
  },
  {
   "cell_type": "code",
   "execution_count": 16,
   "id": "54f60dbe",
   "metadata": {},
   "outputs": [
    {
     "data": {
      "text/plain": [
       "'World'"
      ]
     },
     "execution_count": 16,
     "metadata": {},
     "output_type": "execute_result"
    }
   ],
   "source": [
    "\"\" or \"World\""
   ]
  },
  {
   "cell_type": "code",
   "execution_count": 17,
   "id": "9612a93c",
   "metadata": {},
   "outputs": [
    {
     "data": {
      "text/plain": [
       "'Hello'"
      ]
     },
     "execution_count": 17,
     "metadata": {},
     "output_type": "execute_result"
    }
   ],
   "source": [
    "\"Hello\" or \"World\""
   ]
  },
  {
   "cell_type": "code",
   "execution_count": 18,
   "id": "8cf59f14",
   "metadata": {},
   "outputs": [
    {
     "data": {
      "text/plain": [
       "'World'"
      ]
     },
     "execution_count": 18,
     "metadata": {},
     "output_type": "execute_result"
    }
   ],
   "source": [
    "\"Hello\" and \"World\""
   ]
  },
  {
   "cell_type": "code",
   "execution_count": 19,
   "id": "e14ba5f7",
   "metadata": {},
   "outputs": [
    {
     "data": {
      "text/plain": [
       "False"
      ]
     },
     "execution_count": 19,
     "metadata": {},
     "output_type": "execute_result"
    }
   ],
   "source": [
    "not \"hello\""
   ]
  },
  {
   "cell_type": "code",
   "execution_count": 20,
   "id": "3eefda4f",
   "metadata": {},
   "outputs": [
    {
     "data": {
      "text/plain": [
       "True"
      ]
     },
     "execution_count": 20,
     "metadata": {},
     "output_type": "execute_result"
    }
   ],
   "source": [
    "not \"\""
   ]
  },
  {
   "cell_type": "code",
   "execution_count": 21,
   "id": "26f3fbe8",
   "metadata": {},
   "outputs": [
    {
     "name": "stdout",
     "output_type": "stream",
     "text": [
      "h\n",
      "e\n",
      "l\n",
      "l\n",
      "o\n",
      " \n",
      "W\n",
      "o\n",
      "r\n",
      "l\n",
      "d\n"
     ]
    }
   ],
   "source": [
    "# Loops \n",
    "c = \"hello World\"\n",
    "for i in c:\n",
    "    print(i)\n"
   ]
  },
  {
   "cell_type": "code",
   "execution_count": 22,
   "id": "1a4bf08b",
   "metadata": {},
   "outputs": [
    {
     "name": "stdout",
     "output_type": "stream",
     "text": [
      "l\n",
      "l\n",
      "o\n",
      " \n",
      "W\n"
     ]
    }
   ],
   "source": [
    "for i in c[2:7]:\n",
    "    print(i)\n"
   ]
  },
  {
   "cell_type": "code",
   "execution_count": 23,
   "id": "947dfafe",
   "metadata": {},
   "outputs": [
    {
     "name": "stdout",
     "output_type": "stream",
     "text": [
      "d\n",
      "l\n",
      "r\n",
      "o\n",
      "W\n",
      " \n",
      "o\n",
      "l\n",
      "l\n",
      "e\n",
      "h\n"
     ]
    }
   ],
   "source": [
    "for i in c[::-1]:\n",
    "    print(i)\n"
   ]
  },
  {
   "cell_type": "code",
   "execution_count": 24,
   "id": "06d375da",
   "metadata": {},
   "outputs": [
    {
     "data": {
      "text/plain": [
       "True"
      ]
     },
     "execution_count": 24,
     "metadata": {},
     "output_type": "execute_result"
    }
   ],
   "source": [
    "'h' in c"
   ]
  },
  {
   "cell_type": "code",
   "execution_count": 26,
   "id": "200a4d9d",
   "metadata": {},
   "outputs": [
    {
     "data": {
      "text/plain": [
       "True"
      ]
     },
     "execution_count": 26,
     "metadata": {},
     "output_type": "execute_result"
    }
   ],
   "source": [
    "'world' not in c   #true bcoz we used W "
   ]
  }
 ],
 "metadata": {
  "kernelspec": {
   "display_name": "Python 3 (ipykernel)",
   "language": "python",
   "name": "python3"
  },
  "language_info": {
   "codemirror_mode": {
    "name": "ipython",
    "version": 3
   },
   "file_extension": ".py",
   "mimetype": "text/x-python",
   "name": "python",
   "nbconvert_exporter": "python",
   "pygments_lexer": "ipython3",
   "version": "3.11.4"
  }
 },
 "nbformat": 4,
 "nbformat_minor": 5
}
