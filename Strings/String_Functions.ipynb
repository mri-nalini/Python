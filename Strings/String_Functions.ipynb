{
 "cells": [
  {
   "cell_type": "markdown",
   "id": "cb6f33ca",
   "metadata": {},
   "source": [
    "# Common Functions\n",
    "* len\n",
    "* max\n",
    "* min\n",
    "* sorted"
   ]
  },
  {
   "cell_type": "code",
   "execution_count": 2,
   "id": "0617da2d",
   "metadata": {},
   "outputs": [
    {
     "data": {
      "text/plain": [
       "7"
      ]
     },
     "execution_count": 2,
     "metadata": {},
     "output_type": "execute_result"
    }
   ],
   "source": [
    "c = \"Kolkata\"\n",
    "len(c)"
   ]
  },
  {
   "cell_type": "code",
   "execution_count": 3,
   "id": "24b98f4b",
   "metadata": {},
   "outputs": [
    {
     "data": {
      "text/plain": [
       "'t'"
      ]
     },
     "execution_count": 3,
     "metadata": {},
     "output_type": "execute_result"
    }
   ],
   "source": [
    "max(c)"
   ]
  },
  {
   "cell_type": "code",
   "execution_count": 4,
   "id": "70780417",
   "metadata": {},
   "outputs": [
    {
     "data": {
      "text/plain": [
       "'K'"
      ]
     },
     "execution_count": 4,
     "metadata": {},
     "output_type": "execute_result"
    }
   ],
   "source": [
    "min(c)"
   ]
  },
  {
   "cell_type": "code",
   "execution_count": 6,
   "id": "f2e62c67",
   "metadata": {},
   "outputs": [
    {
     "data": {
      "text/plain": [
       "['K', 'a', 'a', 'k', 'l', 'o', 't']"
      ]
     },
     "execution_count": 6,
     "metadata": {},
     "output_type": "execute_result"
    }
   ],
   "source": [
    "sorted(c)  # output we got is in list "
   ]
  },
  {
   "cell_type": "code",
   "execution_count": 7,
   "id": "0dad040b",
   "metadata": {},
   "outputs": [
    {
     "data": {
      "text/plain": [
       "['t', 'o', 'l', 'k', 'a', 'a', 'K']"
      ]
     },
     "execution_count": 7,
     "metadata": {},
     "output_type": "execute_result"
    }
   ],
   "source": [
    "sorted(c,reverse = True)  "
   ]
  },
  {
   "cell_type": "markdown",
   "id": "08dc663c",
   "metadata": {},
   "source": [
    "## 1. Capitalize/Title/Upper/Lower/Swapcase"
   ]
  },
  {
   "cell_type": "code",
   "execution_count": 10,
   "id": "fd4c6093",
   "metadata": {},
   "outputs": [
    {
     "name": "stdout",
     "output_type": "stream",
     "text": [
      "kolkata\n"
     ]
    }
   ],
   "source": [
    "c = \"kolkata\"\n",
    "print(c)"
   ]
  },
  {
   "cell_type": "code",
   "execution_count": 11,
   "id": "3fb9c69f",
   "metadata": {},
   "outputs": [
    {
     "data": {
      "text/plain": [
       "'Kolkata'"
      ]
     },
     "execution_count": 11,
     "metadata": {},
     "output_type": "execute_result"
    }
   ],
   "source": [
    "c.capitalize()"
   ]
  },
  {
   "cell_type": "code",
   "execution_count": 15,
   "id": "d7628807",
   "metadata": {},
   "outputs": [
    {
     "data": {
      "text/plain": [
       "'It is raining today'"
      ]
     },
     "execution_count": 15,
     "metadata": {},
     "output_type": "execute_result"
    }
   ],
   "source": [
    "\"it is raining today\".capitalize()"
   ]
  },
  {
   "cell_type": "code",
   "execution_count": 16,
   "id": "cea14356",
   "metadata": {},
   "outputs": [
    {
     "data": {
      "text/plain": [
       "'It Is Raining Today'"
      ]
     },
     "execution_count": 16,
     "metadata": {},
     "output_type": "execute_result"
    }
   ],
   "source": [
    "\"it is raining today\".title()"
   ]
  },
  {
   "cell_type": "code",
   "execution_count": 13,
   "id": "3410730b",
   "metadata": {},
   "outputs": [
    {
     "data": {
      "text/plain": [
       "'KOLKATA'"
      ]
     },
     "execution_count": 13,
     "metadata": {},
     "output_type": "execute_result"
    }
   ],
   "source": [
    "c.upper()"
   ]
  },
  {
   "cell_type": "code",
   "execution_count": 14,
   "id": "8de52910",
   "metadata": {},
   "outputs": [
    {
     "data": {
      "text/plain": [
       "'kolkata'"
      ]
     },
     "execution_count": 14,
     "metadata": {},
     "output_type": "execute_result"
    }
   ],
   "source": [
    "c.lower()"
   ]
  },
  {
   "cell_type": "code",
   "execution_count": 17,
   "id": "3a92fee7",
   "metadata": {},
   "outputs": [
    {
     "data": {
      "text/plain": [
       "'kOlkAtA'"
      ]
     },
     "execution_count": 17,
     "metadata": {},
     "output_type": "execute_result"
    }
   ],
   "source": [
    "\"KoLKaTa\".swapcase()"
   ]
  },
  {
   "cell_type": "markdown",
   "id": "565bbcdc",
   "metadata": {},
   "source": [
    "# 2. Count "
   ]
  },
  {
   "cell_type": "code",
   "execution_count": 20,
   "id": "f0574ca7",
   "metadata": {},
   "outputs": [
    {
     "data": {
      "text/plain": [
       "4"
      ]
     },
     "execution_count": 20,
     "metadata": {},
     "output_type": "execute_result"
    }
   ],
   "source": [
    "\"it is raining today\".count(\"i\")"
   ]
  },
  {
   "cell_type": "markdown",
   "id": "94213179",
   "metadata": {},
   "source": [
    "# 3. Find/Index"
   ]
  },
  {
   "cell_type": "code",
   "execution_count": 21,
   "id": "b64861a8",
   "metadata": {},
   "outputs": [
    {
     "data": {
      "text/plain": [
       "0"
      ]
     },
     "execution_count": 21,
     "metadata": {},
     "output_type": "execute_result"
    }
   ],
   "source": [
    "\"it is raining today\".find(\"i\")"
   ]
  },
  {
   "cell_type": "code",
   "execution_count": 23,
   "id": "7a22b574",
   "metadata": {},
   "outputs": [
    {
     "data": {
      "text/plain": [
       "-1"
      ]
     },
     "execution_count": 23,
     "metadata": {},
     "output_type": "execute_result"
    }
   ],
   "source": [
    "\"it is raining today\".find(\"x\") "
   ]
  },
  {
   "cell_type": "code",
   "execution_count": 24,
   "id": "8bc73e32",
   "metadata": {},
   "outputs": [
    {
     "data": {
      "text/plain": [
       "6"
      ]
     },
     "execution_count": 24,
     "metadata": {},
     "output_type": "execute_result"
    }
   ],
   "source": [
    "\"it is raining today\".index(\"rain\")"
   ]
  },
  {
   "cell_type": "markdown",
   "id": "5490086c",
   "metadata": {},
   "source": [
    "In find, if the value is not find it returns -1 but it's not the same case for index (it throughs error) if value not present in string. "
   ]
  },
  {
   "cell_type": "code",
   "execution_count": 25,
   "id": "3e5f2eec",
   "metadata": {},
   "outputs": [
    {
     "ename": "ValueError",
     "evalue": "substring not found",
     "output_type": "error",
     "traceback": [
      "\u001b[1;31m---------------------------------------------------------------------------\u001b[0m",
      "\u001b[1;31mValueError\u001b[0m                                Traceback (most recent call last)",
      "Cell \u001b[1;32mIn[25], line 1\u001b[0m\n\u001b[1;32m----> 1\u001b[0m \u001b[38;5;124m\"\u001b[39m\u001b[38;5;124mit is raining today\u001b[39m\u001b[38;5;124m\"\u001b[39m\u001b[38;5;241m.\u001b[39mindex(\u001b[38;5;124m\"\u001b[39m\u001b[38;5;124mx\u001b[39m\u001b[38;5;124m\"\u001b[39m)\n",
      "\u001b[1;31mValueError\u001b[0m: substring not found"
     ]
    }
   ],
   "source": [
    "\"it is raining today\".index(\"x\")"
   ]
  },
  {
   "cell_type": "markdown",
   "id": "66427040",
   "metadata": {},
   "source": [
    "# 4. endswith/startswith"
   ]
  },
  {
   "cell_type": "code",
   "execution_count": 27,
   "id": "d48ba597",
   "metadata": {},
   "outputs": [
    {
     "data": {
      "text/plain": [
       "True"
      ]
     },
     "execution_count": 27,
     "metadata": {},
     "output_type": "execute_result"
    }
   ],
   "source": [
    "\"it is raining today\".endswith(\"day\")"
   ]
  },
  {
   "cell_type": "code",
   "execution_count": 28,
   "id": "c1feda22",
   "metadata": {},
   "outputs": [
    {
     "data": {
      "text/plain": [
       "True"
      ]
     },
     "execution_count": 28,
     "metadata": {},
     "output_type": "execute_result"
    }
   ],
   "source": [
    "\"it is raining today\".startswith(\"it\")"
   ]
  },
  {
   "cell_type": "markdown",
   "id": "80210fe0",
   "metadata": {},
   "source": [
    "# 5. format"
   ]
  },
  {
   "cell_type": "code",
   "execution_count": 33,
   "id": "9bdea4b7",
   "metadata": {},
   "outputs": [
    {
     "data": {
      "text/plain": [
       "'Hello my name is Mrinalini and i am Data Scientist having 3 years of experience'"
      ]
     },
     "execution_count": 33,
     "metadata": {},
     "output_type": "execute_result"
    }
   ],
   "source": [
    "\"Hello my name is {} and i am {}having {} years of experience\".format(\"Mrinalini\",\"Data Scientist \",3)"
   ]
  },
  {
   "cell_type": "code",
   "execution_count": 37,
   "id": "6ac93437",
   "metadata": {},
   "outputs": [
    {
     "data": {
      "text/plain": [
       "'Hello my name is mrinalini and i am 25'"
      ]
     },
     "execution_count": 37,
     "metadata": {},
     "output_type": "execute_result"
    }
   ],
   "source": [
    "\"Hello my name is {name} and i am {age}\".format(name = \"mrinalini\",age =25)"
   ]
  },
  {
   "cell_type": "code",
   "execution_count": 38,
   "id": "0f92c0eb",
   "metadata": {},
   "outputs": [
    {
     "data": {
      "text/plain": [
       "'Hello my name is 25 and i am mrinalini'"
      ]
     },
     "execution_count": 38,
     "metadata": {},
     "output_type": "execute_result"
    }
   ],
   "source": [
    "\"Hello my name is {age} and i am {name}\".format(name = \"mrinalini\",age =25) #we can swap too!"
   ]
  },
  {
   "cell_type": "markdown",
   "id": "1d70daba",
   "metadata": {},
   "source": [
    "# 6. isalnum/ isalpha/ isdecimal/ isidentifier"
   ]
  },
  {
   "cell_type": "code",
   "execution_count": 39,
   "id": "7ff08512",
   "metadata": {},
   "outputs": [
    {
     "data": {
      "text/plain": [
       "True"
      ]
     },
     "execution_count": 39,
     "metadata": {},
     "output_type": "execute_result"
    }
   ],
   "source": [
    "\"FLAT20\".isalnum()"
   ]
  },
  {
   "cell_type": "code",
   "execution_count": 40,
   "id": "a7bf1df0",
   "metadata": {},
   "outputs": [
    {
     "data": {
      "text/plain": [
       "False"
      ]
     },
     "execution_count": 40,
     "metadata": {},
     "output_type": "execute_result"
    }
   ],
   "source": [
    "\"FLAT20\".isalpha()"
   ]
  },
  {
   "cell_type": "code",
   "execution_count": 41,
   "id": "c5cd7711",
   "metadata": {},
   "outputs": [
    {
     "data": {
      "text/plain": [
       "True"
      ]
     },
     "execution_count": 41,
     "metadata": {},
     "output_type": "execute_result"
    }
   ],
   "source": [
    "\"20\".isdigit()"
   ]
  },
  {
   "cell_type": "code",
   "execution_count": 42,
   "id": "1604c0e8",
   "metadata": {},
   "outputs": [
    {
     "data": {
      "text/plain": [
       "True"
      ]
     },
     "execution_count": 42,
     "metadata": {},
     "output_type": "execute_result"
    }
   ],
   "source": [
    "\"helloWorld\".isidentifier()"
   ]
  },
  {
   "cell_type": "code",
   "execution_count": 43,
   "id": "0a573b1f",
   "metadata": {},
   "outputs": [
    {
     "data": {
      "text/plain": [
       "True"
      ]
     },
     "execution_count": 43,
     "metadata": {},
     "output_type": "execute_result"
    }
   ],
   "source": [
    "\"hello_World\".isidentifier()"
   ]
  },
  {
   "cell_type": "markdown",
   "id": "a3d0cc4d",
   "metadata": {},
   "source": [
    "# 7. Split"
   ]
  },
  {
   "cell_type": "code",
   "execution_count": 44,
   "id": "ce22d91d",
   "metadata": {},
   "outputs": [
    {
     "data": {
      "text/plain": [
       "['Data', 'is', 'gold']"
      ]
     },
     "execution_count": 44,
     "metadata": {},
     "output_type": "execute_result"
    }
   ],
   "source": [
    "\"Data is gold\".split()"
   ]
  },
  {
   "cell_type": "code",
   "execution_count": 46,
   "id": "d9b20ed8",
   "metadata": {},
   "outputs": [
    {
     "data": {
      "text/plain": [
       "['D', 't', ' is gold']"
      ]
     },
     "execution_count": 46,
     "metadata": {},
     "output_type": "execute_result"
    }
   ],
   "source": [
    "\"Data is gold\".split(\"a\")"
   ]
  },
  {
   "cell_type": "markdown",
   "id": "b370f623",
   "metadata": {},
   "source": [
    "# 8. Join"
   ]
  },
  {
   "cell_type": "code",
   "execution_count": 47,
   "id": "612c4d24",
   "metadata": {},
   "outputs": [
    {
     "data": {
      "text/plain": [
       "'How are you'"
      ]
     },
     "execution_count": 47,
     "metadata": {},
     "output_type": "execute_result"
    }
   ],
   "source": [
    "\" \".join(['How','are','you'])"
   ]
  },
  {
   "cell_type": "code",
   "execution_count": 48,
   "id": "453a8357",
   "metadata": {},
   "outputs": [
    {
     "data": {
      "text/plain": [
       "'How/are/you'"
      ]
     },
     "execution_count": 48,
     "metadata": {},
     "output_type": "execute_result"
    }
   ],
   "source": [
    "\"/\".join(['How','are','you'])"
   ]
  },
  {
   "cell_type": "markdown",
   "id": "531ab2a9",
   "metadata": {},
   "source": [
    "# 9. Replace"
   ]
  },
  {
   "cell_type": "code",
   "execution_count": 50,
   "id": "e1c4e9bd",
   "metadata": {},
   "outputs": [
    {
     "data": {
      "text/plain": [
       "'Hi my name is Mri'"
      ]
     },
     "execution_count": 50,
     "metadata": {},
     "output_type": "execute_result"
    }
   ],
   "source": [
    "\"Hi my name is Mrinalini\".replace(\"Mrinalini\",\"Mri\")"
   ]
  },
  {
   "cell_type": "markdown",
   "id": "1ff58bda",
   "metadata": {},
   "source": [
    "# 10. Strip"
   ]
  },
  {
   "cell_type": "code",
   "execution_count": 52,
   "id": "13961348",
   "metadata": {},
   "outputs": [
    {
     "data": {
      "text/plain": [
       "'hi                  Mri          '"
      ]
     },
     "execution_count": 52,
     "metadata": {},
     "output_type": "execute_result"
    }
   ],
   "source": [
    "name =    \"                  Mri          \"\n",
    "\n",
    "\"hi\" +name"
   ]
  },
  {
   "cell_type": "code",
   "execution_count": 1,
   "id": "609cd9f1",
   "metadata": {},
   "outputs": [
    {
     "data": {
      "text/plain": [
       "'Mri'"
      ]
     },
     "execution_count": 1,
     "metadata": {},
     "output_type": "execute_result"
    }
   ],
   "source": [
    "name =    \"                  Mri          \"\n",
    "name.strip()"
   ]
  },
  {
   "cell_type": "code",
   "execution_count": 2,
   "id": "64758a5d",
   "metadata": {},
   "outputs": [
    {
     "data": {
      "text/plain": [
       "True"
      ]
     },
     "execution_count": 2,
     "metadata": {},
     "output_type": "execute_result"
    }
   ],
   "source": [
    "\"mri_17\"."
   ]
  },
  {
   "attachments": {
    "image.png": {
     "image/png": "[encoded data removed]"
    }
   },
   "cell_type": "markdown",
   "id": "ebd4e37b",
   "metadata": {},
   "source": [
    "![image.png](attachment:image.png)\n",
    "\n",
    "\n",
    "create string.(click tab) rest of the functions will show this way."
   ]
  },
  {
   "cell_type": "code",
   "execution_count": null,
   "id": "2b81a9d9",
   "metadata": {},
   "outputs": [],
   "source": []
  }
 ],
 "metadata": {
  "kernelspec": {
   "display_name": "Python 3 (ipykernel)",
   "language": "python",
   "name": "python3"
  },
  "language_info": {
   "codemirror_mode": {
    "name": "ipython",
    "version": 3
   },
   "file_extension": ".py",
   "mimetype": "text/x-python",
   "name": "python",
   "nbconvert_exporter": "python",
   "pygments_lexer": "ipython3",
   "version": "3.11.4"
  }
 },
 "nbformat": 4,
 "nbformat_minor": 5
}
