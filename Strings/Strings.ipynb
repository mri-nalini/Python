{
 "cells": [
  {
   "cell_type": "markdown",
   "id": "d8e02357",
   "metadata": {},
   "source": [
    "### Strings are sequence of Characters"
   ]
  },
  {
   "cell_type": "markdown",
   "id": "859bd050",
   "metadata": {},
   "source": [
    "### In python specially, Strings are a sequence  of Unicode Characters"
   ]
  },
  {
   "cell_type": "markdown",
   "id": "08da3317",
   "metadata": {},
   "source": [
    "* Creating Strings\n",
    "* Acessing Strings\n",
    "* Adding chars to Strings\n",
    "* Editing Strings \n",
    "* Deleting Strings\n",
    "* Operations on Strings \n",
    "* String Functions"
   ]
  },
  {
   "cell_type": "code",
   "execution_count": 3,
   "id": "e32c1209",
   "metadata": {},
   "outputs": [
    {
     "name": "stdout",
     "output_type": "stream",
     "text": [
      "Hello\n",
      "Hello\n"
     ]
    }
   ],
   "source": [
    "# Creating \n",
    "\n",
    "c = 'Hello'\n",
    "print(c)\n",
    "\n",
    "d = \"Hello\"\n",
    "print(d)"
   ]
  },
  {
   "cell_type": "code",
   "execution_count": 6,
   "id": "0af07462",
   "metadata": {},
   "outputs": [
    {
     "ename": "SyntaxError",
     "evalue": "invalid syntax (1643519495.py, line 1)",
     "output_type": "error",
     "traceback": [
      "\u001b[1;36m  Cell \u001b[1;32mIn[6], line 1\u001b[1;36m\u001b[0m\n\u001b[1;33m    'It's raining outside''\u001b[0m\n\u001b[1;37m        ^\u001b[0m\n\u001b[1;31mSyntaxError\u001b[0m\u001b[1;31m:\u001b[0m invalid syntax\n"
     ]
    }
   ],
   "source": [
    "#  'It's raining outside''"
   ]
  },
  {
   "cell_type": "code",
   "execution_count": 7,
   "id": "8040fe07",
   "metadata": {},
   "outputs": [
    {
     "ename": "SyntaxError",
     "evalue": "invalid syntax (4221409820.py, line 1)",
     "output_type": "error",
     "traceback": [
      "\u001b[1;36m  Cell \u001b[1;32mIn[7], line 1\u001b[1;36m\u001b[0m\n\u001b[1;33m    It's raining outside'\u001b[0m\n\u001b[1;37m      ^\u001b[0m\n\u001b[1;31mSyntaxError\u001b[0m\u001b[1;31m:\u001b[0m invalid syntax\n"
     ]
    }
   ],
   "source": [
    "#  It's raining outside'"
   ]
  },
  {
   "attachments": {
    "image.png": {
     "image/png": "[encoded data removed]"
    }
   },
   "cell_type": "markdown",
   "id": "9c2047f6",
   "metadata": {},
   "source": [
    "![image.png](attachment:image.png)"
   ]
  },
  {
   "cell_type": "markdown",
   "id": "c1b2e550",
   "metadata": {},
   "source": [
    "toh string confuse to gaya start kaha se aur end kaha pe\n",
    "so that's why we have option '' And \"\" in python "
   ]
  },
  {
   "cell_type": "code",
   "execution_count": 9,
   "id": "3ba8d788",
   "metadata": {},
   "outputs": [
    {
     "data": {
      "text/plain": [
       "\"It's raining outside'\""
      ]
     },
     "execution_count": 9,
     "metadata": {},
     "output_type": "execute_result"
    }
   ],
   "source": [
    "\"It's raining outside'\""
   ]
  },
  {
   "cell_type": "code",
   "execution_count": 10,
   "id": "84202781",
   "metadata": {},
   "outputs": [
    {
     "ename": "SyntaxError",
     "evalue": "unterminated string literal (detected at line 1) (2549852584.py, line 1)",
     "output_type": "error",
     "traceback": [
      "\u001b[1;36m  Cell \u001b[1;32mIn[10], line 1\u001b[1;36m\u001b[0m\n\u001b[1;33m    \"\"It's raining outside\"\"\u001b[0m\n\u001b[1;37m        ^\u001b[0m\n\u001b[1;31mSyntaxError\u001b[0m\u001b[1;31m:\u001b[0m unterminated string literal (detected at line 1)\n"
     ]
    }
   ],
   "source": [
    "\"\"It's raining outside\"\"  # same problem"
   ]
  },
  {
   "cell_type": "code",
   "execution_count": 12,
   "id": "badab04c",
   "metadata": {},
   "outputs": [
    {
     "name": "stdout",
     "output_type": "stream",
     "text": [
      "Hello\n",
      "Hello\n"
     ]
    }
   ],
   "source": [
    "c = '''Hello'''\n",
    "print(c)\n",
    "f= \"\"\"Hello\"\"\"\n",
    "print(f)"
   ]
  },
  {
   "cell_type": "code",
   "execution_count": 14,
   "id": "d83b7718",
   "metadata": {},
   "outputs": [
    {
     "data": {
      "text/plain": [
       "'hello'"
      ]
     },
     "execution_count": 14,
     "metadata": {},
     "output_type": "execute_result"
    }
   ],
   "source": [
    "c = str(\"hello\")\n",
    "c"
   ]
  },
  {
   "cell_type": "markdown",
   "id": "be07c09e",
   "metadata": {},
   "source": [
    "# Acessing Substring From A String"
   ]
  },
  {
   "cell_type": "code",
   "execution_count": 16,
   "id": "929d20fc",
   "metadata": {},
   "outputs": [
    {
     "name": "stdout",
     "output_type": "stream",
     "text": [
      "Hello\n"
     ]
    }
   ],
   "source": [
    "# Concept of Indexing \n",
    "\n",
    "a = \"Hello\"\n",
    "print(f)\n"
   ]
  },
  {
   "cell_type": "code",
   "execution_count": 18,
   "id": "5e287c04",
   "metadata": {},
   "outputs": [
    {
     "name": "stdout",
     "output_type": "stream",
     "text": [
      "h\n",
      "e\n",
      "l\n",
      "l\n",
      "o\n"
     ]
    }
   ],
   "source": [
    "print(c[0])\n",
    "print(c[1])\n",
    "print(c[2])\n",
    "print(c[3])\n",
    "print(c[4])\n",
    "# indexing"
   ]
  },
  {
   "cell_type": "markdown",
   "id": "114409e3",
   "metadata": {},
   "source": [
    "# Type of Indexing\n",
    "\n",
    "# 1. Positive Indexing\n",
    "# moves left to right\n",
    "\n",
    "print(c[4])\n",
    "# 2. Negative Indexing\n",
    "# Moves right to left \n",
    "\n",
    "print(c[-2])"
   ]
  },
  {
   "cell_type": "code",
   "execution_count": 22,
   "id": "bcd66b93",
   "metadata": {},
   "outputs": [
    {
     "name": "stdout",
     "output_type": "stream",
     "text": [
      "o\n",
      "l\n"
     ]
    }
   ],
   "source": [
    "print(c[4])\n",
    "print(c[-2])"
   ]
  },
  {
   "cell_type": "markdown",
   "id": "85c5c7c4",
   "metadata": {},
   "source": [
    "# Concept of Slicing"
   ]
  },
  {
   "cell_type": "code",
   "execution_count": 31,
   "id": "c8f18e01",
   "metadata": {},
   "outputs": [
    {
     "name": "stdout",
     "output_type": "stream",
     "text": [
      "Mrinalini\n"
     ]
    }
   ],
   "source": [
    "a = \"Mrinalini\"\n",
    "print(a)\n"
   ]
  },
  {
   "cell_type": "code",
   "execution_count": 33,
   "id": "47f29d3b",
   "metadata": {},
   "outputs": [
    {
     "name": "stdout",
     "output_type": "stream",
     "text": [
      "Mrinalini\n"
     ]
    }
   ],
   "source": [
    "print(a[0:9])  # last element not included "
   ]
  },
  {
   "cell_type": "code",
   "execution_count": 34,
   "id": "7173a402",
   "metadata": {},
   "outputs": [
    {
     "name": "stdout",
     "output_type": "stream",
     "text": [
      "inalini\n"
     ]
    }
   ],
   "source": [
    "print(a[2:])"
   ]
  },
  {
   "cell_type": "code",
   "execution_count": 35,
   "id": "1297adc6",
   "metadata": {},
   "outputs": [
    {
     "name": "stdout",
     "output_type": "stream",
     "text": [
      "Mrinalin\n"
     ]
    }
   ],
   "source": [
    "print(a[:-1])"
   ]
  },
  {
   "cell_type": "code",
   "execution_count": 36,
   "id": "4e7aa7d5",
   "metadata": {},
   "outputs": [
    {
     "name": "stdout",
     "output_type": "stream",
     "text": [
      "Mrinalini\n"
     ]
    }
   ],
   "source": [
    "print(a[:])"
   ]
  },
  {
   "cell_type": "code",
   "execution_count": 39,
   "id": "cb445b71",
   "metadata": {},
   "outputs": [
    {
     "name": "stdout",
     "output_type": "stream",
     "text": [
      "iaii\n"
     ]
    }
   ],
   "source": [
    "print(a[2:9:2])"
   ]
  },
  {
   "cell_type": "code",
   "execution_count": 47,
   "id": "263afbef",
   "metadata": {},
   "outputs": [
    {
     "name": "stdout",
     "output_type": "stream",
     "text": [
      "inilanir\n"
     ]
    }
   ],
   "source": [
    "print(a[-1:-9:-1])"
   ]
  },
  {
   "cell_type": "markdown",
   "id": "c3b8acfb",
   "metadata": {},
   "source": [
    "### Famous"
   ]
  },
  {
   "cell_type": "code",
   "execution_count": 46,
   "id": "59fbc984",
   "metadata": {},
   "outputs": [
    {
     "name": "stdout",
     "output_type": "stream",
     "text": [
      "inilanirM\n"
     ]
    }
   ],
   "source": [
    "print(a[::-1]) "
   ]
  },
  {
   "cell_type": "code",
   "execution_count": 44,
   "id": "42748186",
   "metadata": {},
   "outputs": [
    {
     "name": "stdout",
     "output_type": "stream",
     "text": [
      "M\n"
     ]
    }
   ],
   "source": [
    "print(a[-9::-1])"
   ]
  },
  {
   "cell_type": "markdown",
   "id": "43d40242",
   "metadata": {},
   "source": [
    "# Edit And Delete Strings"
   ]
  },
  {
   "cell_type": "code",
   "execution_count": 48,
   "id": "1b7aacd7",
   "metadata": {},
   "outputs": [
    {
     "data": {
      "text/plain": [
       "'Mrinalini'"
      ]
     },
     "execution_count": 48,
     "metadata": {},
     "output_type": "execute_result"
    }
   ],
   "source": [
    "a"
   ]
  },
  {
   "cell_type": "code",
   "execution_count": 50,
   "id": "9c5bf377",
   "metadata": {},
   "outputs": [
    {
     "ename": "TypeError",
     "evalue": "'str' object does not support item assignment",
     "output_type": "error",
     "traceback": [
      "\u001b[1;31m---------------------------------------------------------------------------\u001b[0m",
      "\u001b[1;31mTypeError\u001b[0m                                 Traceback (most recent call last)",
      "Cell \u001b[1;32mIn[50], line 1\u001b[0m\n\u001b[1;32m----> 1\u001b[0m a[\u001b[38;5;241m0\u001b[39m] \u001b[38;5;241m=\u001b[39m \u001b[38;5;124m'\u001b[39m\u001b[38;5;124mN\u001b[39m\u001b[38;5;124m'\u001b[39m\n",
      "\u001b[1;31mTypeError\u001b[0m: 'str' object does not support item assignment"
     ]
    }
   ],
   "source": [
    "a[0] = 'N'  #immutable"
   ]
  },
  {
   "cell_type": "markdown",
   "id": "c6510ef8",
   "metadata": {},
   "source": [
    "## Srings are immutable data type "
   ]
  },
  {
   "cell_type": "code",
   "execution_count": 52,
   "id": "136008b0",
   "metadata": {},
   "outputs": [
    {
     "name": "stdout",
     "output_type": "stream",
     "text": [
      "World\n"
     ]
    }
   ],
   "source": [
    "a = \"World\"\n",
    "print(a)"
   ]
  },
  {
   "cell_type": "code",
   "execution_count": 53,
   "id": "9b307c22",
   "metadata": {},
   "outputs": [
    {
     "ename": "TypeError",
     "evalue": "'str' object does not support item assignment",
     "output_type": "error",
     "traceback": [
      "\u001b[1;31m---------------------------------------------------------------------------\u001b[0m",
      "\u001b[1;31mTypeError\u001b[0m                                 Traceback (most recent call last)",
      "Cell \u001b[1;32mIn[53], line 1\u001b[0m\n\u001b[1;32m----> 1\u001b[0m c[\u001b[38;5;241m5\u001b[39m] \u001b[38;5;241m=\u001b[39m \u001b[38;5;124m\"\u001b[39m\u001b[38;5;124mv\u001b[39m\u001b[38;5;124m\"\u001b[39m\n",
      "\u001b[1;31mTypeError\u001b[0m: 'str' object does not support item assignment"
     ]
    }
   ],
   "source": [
    "c[5] = \"v\"  # not happening"
   ]
  },
  {
   "cell_type": "code",
   "execution_count": 55,
   "id": "c7beb72a",
   "metadata": {},
   "outputs": [],
   "source": [
    "del c"
   ]
  },
  {
   "cell_type": "code",
   "execution_count": 56,
   "id": "eca2671e",
   "metadata": {},
   "outputs": [
    {
     "ename": "NameError",
     "evalue": "name 'c' is not defined",
     "output_type": "error",
     "traceback": [
      "\u001b[1;31m---------------------------------------------------------------------------\u001b[0m",
      "\u001b[1;31mNameError\u001b[0m                                 Traceback (most recent call last)",
      "Cell \u001b[1;32mIn[56], line 1\u001b[0m\n\u001b[1;32m----> 1\u001b[0m \u001b[38;5;28mprint\u001b[39m(c)\n",
      "\u001b[1;31mNameError\u001b[0m: name 'c' is not defined"
     ]
    }
   ],
   "source": [
    "print(c)  # as we deleted above"
   ]
  },
  {
   "cell_type": "code",
   "execution_count": 57,
   "id": "fcbef07c",
   "metadata": {},
   "outputs": [
    {
     "name": "stdout",
     "output_type": "stream",
     "text": [
      "hello\n"
     ]
    }
   ],
   "source": [
    "c=\"hello\"\n",
    "print(c)"
   ]
  }
 ],
 "metadata": {
  "kernelspec": {
   "display_name": "Python 3 (ipykernel)",
   "language": "python",
   "name": "python3"
  },
  "language_info": {
   "codemirror_mode": {
    "name": "ipython",
    "version": 3
   },
   "file_extension": ".py",
   "mimetype": "text/x-python",
   "name": "python",
   "nbconvert_exporter": "python",
   "pygments_lexer": "ipython3",
   "version": "3.11.4"
  }
 },
 "nbformat": 4,
 "nbformat_minor": 5
}
