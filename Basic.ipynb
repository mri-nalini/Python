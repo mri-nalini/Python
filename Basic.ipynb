{
 "cells": [
  {
   "cell_type": "markdown",
   "id": "24d9d6a0",
   "metadata": {},
   "source": [
    "### Basic of python\n",
    "\n",
    "<ul>\n",
    "    <li>Various datatypes in python</li>\n",
    "    <li>Variables</li>\n",
    "     <li>Variables Assignment</li>\n",
    "    <li>Print Formatting</li>\n",
    "    </ul>"
   ]
  },
  {
   "cell_type": "markdown",
   "id": "29ad29b2",
   "metadata": {},
   "source": [
    "### Various datatypes in python"
   ]
  },
  {
   "cell_type": "markdown",
   "id": "88514936",
   "metadata": {},
   "source": [
    "#### Numbers "
   ]
  },
  {
   "cell_type": "code",
   "execution_count": 1,
   "id": "52efb7be",
   "metadata": {},
   "outputs": [
    {
     "data": {
      "text/plain": [
       "33"
      ]
     },
     "execution_count": 1,
     "metadata": {},
     "output_type": "execute_result"
    }
   ],
   "source": [
    " 11 + 22"
   ]
  },
  {
   "cell_type": "code",
   "execution_count": 2,
   "id": "363738a3",
   "metadata": {},
   "outputs": [
    {
     "data": {
      "text/plain": [
       "20"
      ]
     },
     "execution_count": 2,
     "metadata": {},
     "output_type": "execute_result"
    }
   ],
   "source": [
    "4*5"
   ]
  },
  {
   "cell_type": "code",
   "execution_count": 3,
   "id": "db661361",
   "metadata": {},
   "outputs": [
    {
     "data": {
      "text/plain": [
       "1.0"
      ]
     },
     "execution_count": 3,
     "metadata": {},
     "output_type": "execute_result"
    }
   ],
   "source": [
    "2/2"
   ]
  },
  {
   "cell_type": "code",
   "execution_count": 4,
   "id": "f5c0d044",
   "metadata": {},
   "outputs": [
    {
     "data": {
      "text/plain": [
       "100"
      ]
     },
     "execution_count": 4,
     "metadata": {},
     "output_type": "execute_result"
    }
   ],
   "source": [
    "10**2"
   ]
  },
  {
   "cell_type": "code",
   "execution_count": 5,
   "id": "6c3460c0",
   "metadata": {},
   "outputs": [
    {
     "data": {
      "text/plain": [
       "'mrimrimrimrimri'"
      ]
     },
     "execution_count": 5,
     "metadata": {},
     "output_type": "execute_result"
    }
   ],
   "source": [
    "5 *'mri' #will print 5 times mri"
   ]
  },
  {
   "cell_type": "code",
   "execution_count": 6,
   "id": "78bc857d",
   "metadata": {},
   "outputs": [
    {
     "data": {
      "text/plain": [
       "int"
      ]
     },
     "execution_count": 6,
     "metadata": {},
     "output_type": "execute_result"
    }
   ],
   "source": [
    "type(2) #checking type of datatype"
   ]
  },
  {
   "cell_type": "code",
   "execution_count": 7,
   "id": "5a32211c",
   "metadata": {},
   "outputs": [
    {
     "data": {
      "text/plain": [
       "float"
      ]
     },
     "execution_count": 7,
     "metadata": {},
     "output_type": "execute_result"
    }
   ],
   "source": [
    "type(2.45)"
   ]
  },
  {
   "cell_type": "code",
   "execution_count": 10,
   "id": "4efa1e2d",
   "metadata": {},
   "outputs": [
    {
     "data": {
      "text/plain": [
       "str"
      ]
     },
     "execution_count": 10,
     "metadata": {},
     "output_type": "execute_result"
    }
   ],
   "source": [
    "type(\"q\")"
   ]
  },
  {
   "cell_type": "code",
   "execution_count": 11,
   "id": "4d2062d5",
   "metadata": {},
   "outputs": [
    {
     "data": {
      "text/plain": [
       "bool"
      ]
     },
     "execution_count": 11,
     "metadata": {},
     "output_type": "execute_result"
    }
   ],
   "source": [
    "type(True)"
   ]
  },
  {
   "cell_type": "markdown",
   "id": "c7a6b63a",
   "metadata": {},
   "source": [
    "#### Strings"
   ]
  },
  {
   "cell_type": "code",
   "execution_count": 13,
   "id": "2937cc9b",
   "metadata": {},
   "outputs": [
    {
     "data": {
      "text/plain": [
       "'Hello'"
      ]
     },
     "execution_count": 13,
     "metadata": {},
     "output_type": "execute_result"
    }
   ],
   "source": [
    "\"Hello\""
   ]
  },
  {
   "cell_type": "code",
   "execution_count": 14,
   "id": "9a5e7d4f",
   "metadata": {},
   "outputs": [
    {
     "data": {
      "text/plain": [
       "'Mrinalini Das'"
      ]
     },
     "execution_count": 14,
     "metadata": {},
     "output_type": "execute_result"
    }
   ],
   "source": [
    "'Mrinalini Das'"
   ]
  },
  {
   "cell_type": "code",
   "execution_count": 15,
   "id": "84d8c7f6",
   "metadata": {},
   "outputs": [
    {
     "data": {
      "text/plain": [
       "str"
      ]
     },
     "execution_count": 15,
     "metadata": {},
     "output_type": "execute_result"
    }
   ],
   "source": [
    "type(\"Mrinalini Das\")"
   ]
  },
  {
   "cell_type": "markdown",
   "id": "bab3a9ab",
   "metadata": {},
   "source": [
    "#### Variable Assignment"
   ]
  },
  {
   "cell_type": "code",
   "execution_count": 16,
   "id": "68f025c9",
   "metadata": {},
   "outputs": [],
   "source": [
    "a=10"
   ]
  },
  {
   "cell_type": "code",
   "execution_count": 18,
   "id": "b10ed6b9",
   "metadata": {},
   "outputs": [
    {
     "data": {
      "text/plain": [
       "int"
      ]
     },
     "execution_count": 18,
     "metadata": {},
     "output_type": "execute_result"
    }
   ],
   "source": [
    "type(a)"
   ]
  },
  {
   "cell_type": "code",
   "execution_count": 24,
   "id": "bc5e835b",
   "metadata": {},
   "outputs": [
    {
     "name": "stdout",
     "output_type": "stream",
     "text": [
      "100\n",
      "1.0\n",
      "20\n",
      "0\n",
      "10000000000\n",
      "0\n",
      "101.0\n"
     ]
    }
   ],
   "source": [
    "# math operation\n",
    "a=10\n",
    "b=10\n",
    "print(a*b)\n",
    "print(a/b)\n",
    "print(a+b)\n",
    "print(a-b)\n",
    "print(a**b)\n",
    "print(a%b)\n",
    "print((a*b)+(a/b))\n",
    "\n",
    "# what print does? \n",
    "\n",
    "# Signature: print(*args, sep=' ', end='\\n', file=None, flush=False)\n",
    "# Docstring:\n",
    "# Prints the values to a stream, or to sys.stdout by default.\n",
    "\n",
    "# sep\n",
    "#   string inserted between values, default a space.\n",
    "# end\n",
    "#   string appended after the last value, default a newline.\n",
    "# file\n",
    "#   a file-like object (stream); defaults to the current sys.stdout.\n",
    "# flush\n",
    "#   whether to forcibly flush the stream.\n",
    "# Type:      builtin_function_or_method\n",
    "\n"
   ]
  },
  {
   "cell_type": "markdown",
   "id": "e0e0b47c",
   "metadata": {},
   "source": [
    "#### various ways to print"
   ]
  },
  {
   "cell_type": "code",
   "execution_count": 25,
   "id": "3224bc81",
   "metadata": {},
   "outputs": [
    {
     "name": "stdout",
     "output_type": "stream",
     "text": [
      "hello\n"
     ]
    }
   ],
   "source": [
    "print(\"hello\")"
   ]
  },
  {
   "cell_type": "code",
   "execution_count": 26,
   "id": "f55dab1a",
   "metadata": {},
   "outputs": [],
   "source": [
    "first_name = \"mrinalini\"\n",
    "last_name = \"das\""
   ]
  },
  {
   "cell_type": "code",
   "execution_count": 27,
   "id": "6cbaef02",
   "metadata": {},
   "outputs": [
    {
     "name": "stdout",
     "output_type": "stream",
     "text": [
      "My first name is mrinalini and last name is das\n"
     ]
    }
   ],
   "source": [
    "print(\"My first name is {} and last name is {}\" .format(first_name,last_name))"
   ]
  },
  {
   "cell_type": "code",
   "execution_count": 31,
   "id": "27be37fd",
   "metadata": {},
   "outputs": [
    {
     "name": "stdout",
     "output_type": "stream",
     "text": [
      "My first name is mrinalini and last name is das\n"
     ]
    }
   ],
   "source": [
    "print(\"My first name is {first} and last name is {last}\" .format(first=first_name,last=last_name))"
   ]
  },
  {
   "cell_type": "code",
   "execution_count": 32,
   "id": "ffc9e466",
   "metadata": {},
   "outputs": [
    {
     "data": {
      "text/plain": [
       "13"
      ]
     },
     "execution_count": 32,
     "metadata": {},
     "output_type": "execute_result"
    }
   ],
   "source": [
    "len('Mrinalini Das')"
   ]
  },
  {
   "cell_type": "markdown",
   "id": "9a970fd9",
   "metadata": {},
   "source": [
    "Thank You"
   ]
  }
 ],
 "metadata": {
  "kernelspec": {
   "display_name": "Python 3 (ipykernel)",
   "language": "python",
   "name": "python3"
  },
  "language_info": {
   "codemirror_mode": {
    "name": "ipython",
    "version": 3
   },
   "file_extension": ".py",
   "mimetype": "text/x-python",
   "name": "python",
   "nbconvert_exporter": "python",
   "pygments_lexer": "ipython3",
   "version": "3.11.4"
  }
 },
 "nbformat": 4,
 "nbformat_minor": 5
}
