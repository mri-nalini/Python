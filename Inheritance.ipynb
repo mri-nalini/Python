{
 "cells": [
  {
   "cell_type": "markdown",
   "id": "751744e6",
   "metadata": {},
   "source": [
    "### Python Inheritance\n",
    "Inheritance allows us to define a class that inherits all the methods and properties from another class.\n",
    "\n",
    "Parent class is the class being inherited from, also called base class.\n",
    "\n",
    "Child class is the class that inherits from another class, also called derived class."
   ]
  },
  {
   "cell_type": "code",
   "execution_count": null,
   "id": "27b5447a",
   "metadata": {},
   "outputs": [],
   "source": [
    "# parent class\n",
    "class OTTSubscription:\n",
    "    def __init__(self,subscription_id,plan,total_payment):\n",
    "        self.id = subscription_id\n",
    "        self.plan = plan\n",
    "        self.payment = total_payment\n",
    "    def subcription(self):\n",
    "        print(f\"Subscriber with {self.id} id subscribed to the {self.plan} plan \")\n",
    "    def unsubcription(self):\n",
    "        print(f\"Subscriber with {self.id} id unsubcribed to the {self.plan} plan \")\n",
    "\n",
    "#child class\n",
    "class PremiumSubscription(OTTSubscription):\n",
    "    def __init__(self,subscription_id,plan,total_payment,screens):\n",
    "        self.id = subscription_id\n",
    "        self.plan = plan\n",
    "        self.payment = total_payment\n",
    "        self.max_screens= screens\n",
    "    def subscribe(self):\n",
    "        print(f\"Subscriber with {self.id} id subscribed to the {self.plan} plan)\n",
    "    def unsubscribe(self):\n",
    "        print(f\"Subscriber with {self.id} id unsubcribed to the {self.plan} plan \")\n",
    "    def screens(self):\n",
    "        print(f\"Maximum Screen set to{self.max_screens} in Premium plan \")   \n",
    "            \n",
    "\n",
    "\n",
    "\n"
   ]
  },
  {
   "cell_type": "code",
   "execution_count": null,
   "id": "b7832bfd",
   "metadata": {},
   "outputs": [],
   "source": []
  }
 ],
 "metadata": {
  "kernelspec": {
   "display_name": "Python 3 (ipykernel)",
   "language": "python",
   "name": "python3"
  },
  "language_info": {
   "codemirror_mode": {
    "name": "ipython",
    "version": 3
   },
   "file_extension": ".py",
   "mimetype": "text/x-python",
   "name": "python",
   "nbconvert_exporter": "python",
   "pygments_lexer": "ipython3",
   "version": "3.11.4"
  }
 },
 "nbformat": 4,
 "nbformat_minor": 5
}
