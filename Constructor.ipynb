{
 "cells": [
  {
   "cell_type": "markdown",
   "id": "9e01023d",
   "metadata": {},
   "source": [
    "# constructors\n",
    "\n",
    "* it is a special method within a calss that gets automatically called when an object is created.\n",
    "* it is used to initialize the attributes of the object. \n",
    "* it is written within _ _ init _ _"
   ]
  },
  {
   "cell_type": "code",
   "execution_count": 4,
   "id": "179723f3",
   "metadata": {},
   "outputs": [
    {
     "name": "stdout",
     "output_type": "stream",
     "text": [
      "enter faculty id303\n",
      "enter your namemrinalini das\n",
      "enter your salary345688.9\n",
      "**************************************************\n",
      "faculty id 303\n",
      "faculty name mrinalini das\n",
      "faculty salary 345688.9\n"
     ]
    }
   ],
   "source": [
    "class faculty:\n",
    "    def putdata(self):\n",
    "        self.id= int(input(\"enter faculty id\"))\n",
    "        self.name=input(\"enter your name\")\n",
    "        self.salary= float(input(\"enter your salary\"))\n",
    "        print(\"*\"*50)\n",
    "    def display(self):\n",
    "        print(\"faculty id\",self.id)\n",
    "        print(\"faculty name\",self.name)\n",
    "        print(\"faculty salary\",self.salary)\n",
    "a= faculty()\n",
    "a.putdata()\n",
    "a.display()"
   ]
  },
  {
   "cell_type": "code",
   "execution_count": 5,
   "id": "d55bdcad",
   "metadata": {},
   "outputs": [
    {
     "name": "stdout",
     "output_type": "stream",
     "text": [
      "Enter faculty id202\n",
      "Enter your name mrinalini das\n",
      "Enter your salary23456\n",
      "**************************************************\n",
      "Faculty ID  202\n",
      "Faculty name mrinalini das\n",
      "Faculty salary 23456.0\n"
     ]
    }
   ],
   "source": [
    "class faculty:\n",
    "    def __init__(self):\n",
    "        self.id = int(input(\"Enter faculty id\"))\n",
    "        self.name = input(\"Enter your name \")\n",
    "        self.salary = float(input(\"Enter your salary\"))\n",
    "        print(\"*\"*50)\n",
    "    def display(self):\n",
    "        print(\"Faculty ID \", self.id)\n",
    "        print(\"Faculty name\",self.name)\n",
    "        print(\"Faculty salary\", self.salary)\n",
    "a=faculty()\n",
    "a.display()"
   ]
  },
  {
   "cell_type": "code",
   "execution_count": 6,
   "id": "90b8273a",
   "metadata": {},
   "outputs": [
    {
     "name": "stdout",
     "output_type": "stream",
     "text": [
      "**************************************************\n",
      "Faculty ID  1\n",
      "Faculty name mrinalini das\n",
      "Faculty salary 10000\n"
     ]
    }
   ],
   "source": [
    "class faculty:\n",
    "    def __init__(self,a,b,c):\n",
    "        self.id = a\n",
    "        self.name = b\n",
    "        self.salary = c\n",
    "        print(\"*\"*50)\n",
    "    def display(self):\n",
    "        print(\"Faculty ID \", self.id)\n",
    "        print(\"Faculty name\",self.name)\n",
    "        print(\"Faculty salary\", self.salary)\n",
    "a=faculty(1,\"mrinalini das\",10000)\n",
    "a.display()"
   ]
  },
  {
   "cell_type": "code",
   "execution_count": null,
   "id": "634a7503",
   "metadata": {},
   "outputs": [],
   "source": []
  }
 ],
 "metadata": {
  "kernelspec": {
   "display_name": "Python 3 (ipykernel)",
   "language": "python",
   "name": "python3"
  },
  "language_info": {
   "codemirror_mode": {
    "name": "ipython",
    "version": 3
   },
   "file_extension": ".py",
   "mimetype": "text/x-python",
   "name": "python",
   "nbconvert_exporter": "python",
   "pygments_lexer": "ipython3",
   "version": "3.11.4"
  }
 },
 "nbformat": 4,
 "nbformat_minor": 5
}
