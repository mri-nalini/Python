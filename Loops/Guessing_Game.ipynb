{
 "cells": [
  {
   "cell_type": "code",
   "execution_count": 1,
   "id": "873822bc",
   "metadata": {},
   "outputs": [
    {
     "data": {
      "text/plain": [
       "15"
      ]
     },
     "execution_count": 1,
     "metadata": {},
     "output_type": "execute_result"
    }
   ],
   "source": [
    "import random\n",
    "random.randint(1,100)"
   ]
  },
  {
   "cell_type": "code",
   "execution_count": 4,
   "id": "b875c816",
   "metadata": {},
   "outputs": [
    {
     "name": "stdout",
     "output_type": "stream",
     "text": [
      "Guess a number :98\n",
      "Guess Lower\n",
      "Guess a number :89\n",
      "Guess Lower\n",
      "Guess a number :67\n",
      "Guess Lower\n",
      "Guess a number :54\n",
      "Guess Lower\n",
      "Guess a number :34\n",
      "Guess Lower\n",
      "Guess a number :23\n",
      "Guess Lower\n",
      "Guess a number :12\n",
      "Guess Higher\n",
      "Guess a number :22\n",
      "Guess Lower\n",
      "Guess a number :19\n",
      "Guess Higher\n",
      "Guess a number :20\n",
      "Correct\n",
      "You took 10 attempts\n"
     ]
    }
   ],
   "source": [
    "jackpot = random.randint(1,100)\n",
    "guess = int(input(\"Guess a number :\"))\n",
    "count =1\n",
    "while guess !=jackpot:\n",
    "    if guess <jackpot:\n",
    "        print(\"Guess Higher\")\n",
    "    else:\n",
    "        print(\"Guess Lower\")\n",
    "        \n",
    "    guess = int(input(\"Guess a number :\"))\n",
    "    count+=1  \n",
    "    \n",
    "print(\"Correct\")\n",
    "print(\"You took\",count,\"attempts\")"
   ]
  },
  {
   "cell_type": "code",
   "execution_count": null,
   "id": "12408220",
   "metadata": {},
   "outputs": [],
   "source": []
  }
 ],
 "metadata": {
  "kernelspec": {
   "display_name": "Python 3 (ipykernel)",
   "language": "python",
   "name": "python3"
  },
  "language_info": {
   "codemirror_mode": {
    "name": "ipython",
    "version": 3
   },
   "file_extension": ".py",
   "mimetype": "text/x-python",
   "name": "python",
   "nbconvert_exporter": "python",
   "pygments_lexer": "ipython3",
   "version": "3.11.4"
  }
 },
 "nbformat": 4,
 "nbformat_minor": 5
}
