{
 "cells": [
  {
   "cell_type": "code",
   "execution_count": 2,
   "id": "2dd4ebaa",
   "metadata": {},
   "outputs": [
    {
     "name": "stdout",
     "output_type": "stream",
     "text": [
      "enter email:m@gmail.com\n",
      "enter password1234\n",
      "Welcome\n"
     ]
    }
   ],
   "source": [
    "#email : m@gmail.com\n",
    "#passed : 1234\n",
    "\n",
    "email = input(\"enter email:\")\n",
    "password = input(\"enter password\")\n",
    "\n",
    "if email == \"m@gmail.com\" and password == \"1234\":\n",
    "    print(\"Welcome\")\n",
    "else: \n",
    "    print(\"Incorrect Credentails\")"
   ]
  },
  {
   "cell_type": "code",
   "execution_count": 5,
   "id": "ca3987a3",
   "metadata": {},
   "outputs": [
    {
     "name": "stdout",
     "output_type": "stream",
     "text": [
      "enter email:m@gmail.com\n",
      "enter password1245\n",
      "Password Incorrect\n",
      "enter password1234\n",
      "Finally Correct\n"
     ]
    }
   ],
   "source": [
    "email = input(\"enter email:\")\n",
    "password = input(\"enter password\")\n",
    "\n",
    "if email == \"m@gmail.com\" and password == \"1234\":\n",
    "    print(\"Welcome\")\n",
    "elif email == \"m@gmail.com\" and password != \"1234\":\n",
    "    print(\"Password Incorrect\")\n",
    "    password = input(\"enter password\")\n",
    "    if password ==\"1234\":\n",
    "        print(\"Finally Correct\")\n",
    "    else:\n",
    "        print(\"Still incorrect\")        \n",
    "else: \n",
    "    print(\"Incorrect Credentails\")"
   ]
  },
  {
   "cell_type": "code",
   "execution_count": 13,
   "id": "3d60c001",
   "metadata": {},
   "outputs": [
    {
     "name": "stdout",
     "output_type": "stream",
     "text": [
      "enter email:m@gmail.com\n",
      "enter password1234\n",
      "Welcome\n"
     ]
    }
   ],
   "source": [
    "email = input(\"enter email:\")\n",
    "if '@' in email:\n",
    "    password = input(\"enter password\")\n",
    "\n",
    "    if email == \"m@gmail.com\" and password == \"1234\":\n",
    "        print(\"Welcome\")\n",
    "    elif email == \"m@gmail.com\" and password != \"1234\":\n",
    "        print(\"Password Incorrect\")\n",
    "        password = input(\"Password fir se bol\")\n",
    "        if password == \"1234\":\n",
    "            print(\"Finally correct\")\n",
    "        else:\n",
    "            print(\"Still incorrect\")\n",
    "    else:\n",
    "        print(\"Incorrect credentials\")\n",
    "else:\n",
    "    print(\"email format is Wrong Rewrite it :\")"
   ]
  },
  {
   "cell_type": "code",
   "execution_count": null,
   "id": "3378e1bb",
   "metadata": {},
   "outputs": [],
   "source": []
  }
 ],
 "metadata": {
  "kernelspec": {
   "display_name": "Python 3 (ipykernel)",
   "language": "python",
   "name": "python3"
  },
  "language_info": {
   "codemirror_mode": {
    "name": "ipython",
    "version": 3
   },
   "file_extension": ".py",
   "mimetype": "text/x-python",
   "name": "python",
   "nbconvert_exporter": "python",
   "pygments_lexer": "ipython3",
   "version": "3.11.4"
  }
 },
 "nbformat": 4,
 "nbformat_minor": 5
}
