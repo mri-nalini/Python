{
 "cells": [
  {
   "cell_type": "markdown",
   "id": "b9a7634d",
   "metadata": {},
   "source": [
    "# Break "
   ]
  },
  {
   "cell_type": "markdown",
   "id": "8cb0b3b8",
   "metadata": {},
   "source": [
    "allows you to exit a loop when an external condition is met. "
   ]
  },
  {
   "cell_type": "code",
   "execution_count": 8,
   "id": "b6e10168",
   "metadata": {},
   "outputs": [
    {
     "name": "stdout",
     "output_type": "stream",
     "text": [
      "1\n",
      "2\n",
      "3\n",
      "4\n"
     ]
    }
   ],
   "source": [
    "for i in range(1,11):\n",
    "    if i==5:\n",
    "        break\n",
    "    print(i)"
   ]
  },
  {
   "cell_type": "markdown",
   "id": "6446fcb7",
   "metadata": {},
   "source": [
    "# Continue"
   ]
  },
  {
   "cell_type": "markdown",
   "id": "dcf8e386",
   "metadata": {},
   "source": [
    "used to skip the remaining code inside a loop for the current iteration only."
   ]
  },
  {
   "cell_type": "code",
   "execution_count": 9,
   "id": "670d5726",
   "metadata": {},
   "outputs": [
    {
     "name": "stdout",
     "output_type": "stream",
     "text": [
      "1\n",
      "2\n",
      "3\n",
      "4\n",
      "6\n",
      "7\n",
      "8\n",
      "9\n",
      "10\n"
     ]
    }
   ],
   "source": [
    "for i in range(1,11):\n",
    "    if i ==5:\n",
    "        continue   # continue wala code run nhi hoga\n",
    "    print(i)"
   ]
  },
  {
   "cell_type": "markdown",
   "id": "a8bbcaa4",
   "metadata": {},
   "source": [
    "example: \n",
    "Suppose we need to display all the product available in the stock.\n",
    "so we can run,\n",
    "if i== stock: \n",
    "and where stock is unavaialble or out of stock using the case of continue\n",
    "\n",
    "Question: display all the products in python skip for the product which is not in stock"
   ]
  },
  {
   "cell_type": "code",
   "execution_count": 13,
   "id": "55043537",
   "metadata": {},
   "outputs": [
    {
     "name": "stdout",
     "output_type": "stream",
     "text": [
      "Product A is available with 10 items in stock.\n",
      "Product C is available with 5 items in stock.\n",
      "Product E is available with 3 items in stock.\n",
      "\n",
      "Out of stock products:\n",
      "Product B\n",
      "Product D\n"
     ]
    }
   ],
   "source": [
    "# Example list of products with their stock status\n",
    "products = [\n",
    "    {\"name\": \"Product A\", \"stock\": 10},\n",
    "    {\"name\": \"Product B\", \"stock\": 0},\n",
    "    {\"name\": \"Product C\", \"stock\": 5},\n",
    "    {\"name\": \"Product D\", \"stock\": 0},\n",
    "    {\"name\": \"Product E\", \"stock\": 3}\n",
    "]\n",
    "\n",
    "# List to store out-of-stock products\n",
    "out_of_stock_products = []\n",
    "\n",
    "# Loop through each product and display those that are in stock\n",
    "for product in products:\n",
    "    if product[\"stock\"] == 0:\n",
    "        out_of_stock_products.append(product[\"name\"])  # Add out-of-stock product to the list\n",
    "        continue  # Skip products that are out of stock\n",
    "    print(f\"{product['name']} is available with {product['stock']} items in stock.\")\n",
    "\n",
    "# Display the out-of-stock products\n",
    "print(\"\\nOut of stock products:\")\n",
    "for product in out_of_stock_products:\n",
    "    print(product)\n"
   ]
  },
  {
   "cell_type": "markdown",
   "id": "e14e64b8",
   "metadata": {},
   "source": [
    "# Pass"
   ]
  },
  {
   "cell_type": "markdown",
   "id": "e51c2d32",
   "metadata": {},
   "source": [
    "# used as a placeholder for future code."
   ]
  },
  {
   "cell_type": "code",
   "execution_count": 15,
   "id": "0d702c7a",
   "metadata": {},
   "outputs": [],
   "source": [
    "for i in range(1,11):\n",
    "    pass"
   ]
  },
  {
   "cell_type": "code",
   "execution_count": null,
   "id": "0c383f49",
   "metadata": {},
   "outputs": [],
   "source": []
  }
 ],
 "metadata": {
  "kernelspec": {
   "display_name": "Python 3 (ipykernel)",
   "language": "python",
   "name": "python3"
  },
  "language_info": {
   "codemirror_mode": {
    "name": "ipython",
    "version": 3
   },
   "file_extension": ".py",
   "mimetype": "text/x-python",
   "name": "python",
   "nbconvert_exporter": "python",
   "pygments_lexer": "ipython3",
   "version": "3.11.4"
  }
 },
 "nbformat": 4,
 "nbformat_minor": 5
}
