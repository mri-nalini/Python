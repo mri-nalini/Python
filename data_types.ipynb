{
 "cells": [
  {
   "cell_type": "markdown",
   "id": "650b4f84",
   "metadata": {},
   "source": [
    "python datatypes \n",
    "\n",
    "Basic datatypes : (integer, float, complex, boolean, string)\n",
    "\n",
    "Container Types : (list, Tuples, Sets, Dictionary)\n",
    "\n",
    "user-defined Types : Class\n",
    "    "
   ]
  },
  {
   "cell_type": "code",
   "execution_count": 1,
   "id": "fc313bfe",
   "metadata": {},
   "outputs": [
    {
     "name": "stdout",
     "output_type": "stream",
     "text": [
      "567\n",
      "1e+308\n"
     ]
    }
   ],
   "source": [
    "#integer\n",
    "\n",
    "print(567)\n",
    "\n",
    "print(1e308) #(1e309 infinite)\n"
   ]
  },
  {
   "cell_type": "code",
   "execution_count": 2,
   "id": "8fe29ffa",
   "metadata": {},
   "outputs": [
    {
     "name": "stdout",
     "output_type": "stream",
     "text": [
      "8.6\n",
      "1.7e+308\n"
     ]
    }
   ],
   "source": [
    "#float \n",
    "\n",
    "print(8.6)\n",
    "\n",
    "print(1.7e308)"
   ]
  },
  {
   "cell_type": "code",
   "execution_count": 3,
   "id": "fbee6ae3",
   "metadata": {},
   "outputs": [
    {
     "name": "stdout",
     "output_type": "stream",
     "text": [
      "True\n",
      "False\n"
     ]
    }
   ],
   "source": [
    "#boolean\n",
    "\n",
    "print(True)\n",
    "print(False)"
   ]
  },
  {
   "cell_type": "code",
   "execution_count": 4,
   "id": "a69c9b4a",
   "metadata": {},
   "outputs": [
    {
     "name": "stdout",
     "output_type": "stream",
     "text": [
      "(4+5j)\n"
     ]
    }
   ],
   "source": [
    "#complex\n",
    "\n",
    "print(4+5j)"
   ]
  },
  {
   "cell_type": "code",
   "execution_count": 6,
   "id": "eba885e7",
   "metadata": {},
   "outputs": [
    {
     "name": "stdout",
     "output_type": "stream",
     "text": [
      "kolkata\n",
      "kolkata\n",
      "kolkata\n"
     ]
    }
   ],
   "source": [
    "#string\n",
    "\n",
    "print(\"kolkata\")\n",
    "print('kolkata')\n",
    "print(\"\"\"kolkata\"\"\")"
   ]
  },
  {
   "cell_type": "code",
   "execution_count": 7,
   "id": "6214673f",
   "metadata": {},
   "outputs": [
    {
     "name": "stdout",
     "output_type": "stream",
     "text": [
      "[1, 2, 3, 4, 5]\n"
     ]
    }
   ],
   "source": [
    "#list \n",
    "\n",
    "print([1,2,3,4,5])"
   ]
  },
  {
   "cell_type": "code",
   "execution_count": 8,
   "id": "b4364ce6",
   "metadata": {},
   "outputs": [
    {
     "name": "stdout",
     "output_type": "stream",
     "text": [
      "(1, 2, 3, 4, 5)\n"
     ]
    }
   ],
   "source": [
    "#tuple\n",
    "print((1,2,3,4,5))"
   ]
  },
  {
   "cell_type": "code",
   "execution_count": 9,
   "id": "03e636d9",
   "metadata": {},
   "outputs": [
    {
     "name": "stdout",
     "output_type": "stream",
     "text": [
      "{1, 2, 3, 4, 5}\n"
     ]
    }
   ],
   "source": [
    "#sets\n",
    "\n",
    "print({1,2,3,4,5})"
   ]
  },
  {
   "cell_type": "code",
   "execution_count": 11,
   "id": "f9e0de47",
   "metadata": {},
   "outputs": [
    {
     "name": "stdout",
     "output_type": "stream",
     "text": [
      "{'Name': 'mrinalini', 'Age': 27, 'gender': 'Female'}\n"
     ]
    }
   ],
   "source": [
    "# dict\n",
    "\n",
    "print({\"Name\":\"mrinalini\",\"Age\":27,\"gender\":\"Female\"})"
   ]
  },
  {
   "cell_type": "code",
   "execution_count": null,
   "id": "55352328",
   "metadata": {},
   "outputs": [],
   "source": []
  }
 ],
 "metadata": {
  "kernelspec": {
   "display_name": "Python 3 (ipykernel)",
   "language": "python",
   "name": "python3"
  },
  "language_info": {
   "codemirror_mode": {
    "name": "ipython",
    "version": 3
   },
   "file_extension": ".py",
   "mimetype": "text/x-python",
   "name": "python",
   "nbconvert_exporter": "python",
   "pygments_lexer": "ipython3",
   "version": "3.11.4"
  }
 },
 "nbformat": 4,
 "nbformat_minor": 5
}
