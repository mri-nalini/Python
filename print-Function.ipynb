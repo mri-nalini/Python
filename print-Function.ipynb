{
 "cells": [
  {
   "cell_type": "markdown",
   "id": "af7dcca4",
   "metadata": {},
   "source": [
    "#h1 \n",
    "day1-print-data-types-and-comments\n"
   ]
  },
  {
   "cell_type": "markdown",
   "id": "5490c1cb",
   "metadata": {},
   "source": [
    "Print Functions In python"
   ]
  },
  {
   "cell_type": "code",
   "execution_count": 2,
   "id": "c01ecc46",
   "metadata": {},
   "outputs": [
    {
     "name": "stdout",
     "output_type": "stream",
     "text": [
      "My name is mrinalini \n"
     ]
    }
   ],
   "source": [
    "print(\"My name is mrinalini \")"
   ]
  },
  {
   "cell_type": "code",
   "execution_count": 3,
   "id": "4dd9fded",
   "metadata": {},
   "outputs": [
    {
     "name": "stdout",
     "output_type": "stream",
     "text": [
      "13\n"
     ]
    }
   ],
   "source": [
    "print(6+7)"
   ]
  },
  {
   "cell_type": "code",
   "execution_count": 4,
   "id": "b95bb15a",
   "metadata": {},
   "outputs": [
    {
     "name": "stdout",
     "output_type": "stream",
     "text": [
      "India canada nepal china\n"
     ]
    }
   ],
   "source": [
    "print(\"India\",\"canada\",\"nepal\",\"china\")"
   ]
  },
  {
   "cell_type": "code",
   "execution_count": 6,
   "id": "3fbcd3f0",
   "metadata": {},
   "outputs": [
    {
     "name": "stdout",
     "output_type": "stream",
     "text": [
      "India 5 True\n"
     ]
    }
   ],
   "source": [
    "print(\"India\",5,True)"
   ]
  },
  {
   "cell_type": "code",
   "execution_count": 7,
   "id": "039109f5",
   "metadata": {},
   "outputs": [
    {
     "name": "stdout",
     "output_type": "stream",
     "text": [
      "India/canada/nepal/china\n"
     ]
    }
   ],
   "source": [
    "print(\"India\",\"canada\",\"nepal\",\"china\",sep=\"/\")"
   ]
  },
  {
   "cell_type": "code",
   "execution_count": 8,
   "id": "10013701",
   "metadata": {},
   "outputs": [
    {
     "name": "stdout",
     "output_type": "stream",
     "text": [
      "India>canada>nepal>china\n"
     ]
    }
   ],
   "source": [
    "print(\"India\",\"canada\",\"nepal\",\"china\",sep=\">\")"
   ]
  },
  {
   "cell_type": "code",
   "execution_count": 9,
   "id": "b55149d5",
   "metadata": {},
   "outputs": [
    {
     "name": "stdout",
     "output_type": "stream",
     "text": [
      "hello\n",
      "world\n"
     ]
    }
   ],
   "source": [
    "print(\"hello\")\n",
    "print(\"world\")"
   ]
  },
  {
   "cell_type": "code",
   "execution_count": 10,
   "id": "81f581bf",
   "metadata": {},
   "outputs": [
    {
     "name": "stdout",
     "output_type": "stream",
     "text": [
      "helloworld\n"
     ]
    }
   ],
   "source": [
    "print(\"hello\",end='')\n",
    "print(\"world\")"
   ]
  },
  {
   "cell_type": "code",
   "execution_count": 11,
   "id": "4256dc5e",
   "metadata": {},
   "outputs": [
    {
     "name": "stdout",
     "output_type": "stream",
     "text": [
      "\n"
     ]
    }
   ],
   "source": [
    "print()"
   ]
  },
  {
   "cell_type": "code",
   "execution_count": null,
   "id": "3ff0a0b4",
   "metadata": {},
   "outputs": [],
   "source": []
  }
 ],
 "metadata": {
  "kernelspec": {
   "display_name": "Python 3 (ipykernel)",
   "language": "python",
   "name": "python3"
  },
  "language_info": {
   "codemirror_mode": {
    "name": "ipython",
    "version": 3
   },
   "file_extension": ".py",
   "mimetype": "text/x-python",
   "name": "python",
   "nbconvert_exporter": "python",
   "pygments_lexer": "ipython3",
   "version": "3.11.4"
  }
 },
 "nbformat": 4,
 "nbformat_minor": 5
}
