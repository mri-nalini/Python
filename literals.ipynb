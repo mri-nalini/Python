{
 "cells": [
  {
   "cell_type": "markdown",
   "id": "ac933bd3",
   "metadata": {},
   "source": [
    "## Literals\n",
    "\n",
    "Literal is a raw data given in a variable. In Python, there are various types of literals they are as follows:\n",
    "- Numeric Literals\n",
    "- String Literals\n",
    "- Boolean Literals\n",
    "- Special Literals"
   ]
  },
  {
   "cell_type": "markdown",
   "id": "02392315",
   "metadata": {},
   "source": [
    "### 1. Numeric Literals"
   ]
  },
  {
   "cell_type": "code",
   "execution_count": 1,
   "id": "1deba8a2",
   "metadata": {},
   "outputs": [
    {
     "name": "stdout",
     "output_type": "stream",
     "text": [
      "10 100 200 300\n",
      "10.5 150.0 0.0015\n",
      "3.14j 3.14 0.0\n"
     ]
    }
   ],
   "source": [
    "a = 0b1010 #Binary Literals\n",
    "b = 100 #Decimal Literal \n",
    "c = 0o310 #Octal Literal\n",
    "d = 0x12c #Hexadecimal Literal\n",
    "\n",
    "#Float Literal\n",
    "float_1 = 10.5 \n",
    "float_2 = 1.5e2\n",
    "float_3 = 1.5e-3\n",
    "\n",
    "#Complex Literal \n",
    "x = 3.14j\n",
    "\n",
    "print(a, b, c, d)\n",
    "print(float_1, float_2,float_3)\n",
    "print(x, x.imag, x.real)"
   ]
  },
  {
   "cell_type": "markdown",
   "id": "67237d77",
   "metadata": {},
   "source": [
    "### 2. String Literals"
   ]
  },
  {
   "cell_type": "code",
   "execution_count": 2,
   "id": "bd93e828",
   "metadata": {},
   "outputs": [
    {
     "name": "stdout",
     "output_type": "stream",
     "text": [
      "This is Python\n",
      "This is Python\n",
      "C\n",
      "This is a multiline string with more than one line code.\n",
      "😀😆🤣\n",
      "raw \\n string\n"
     ]
    }
   ],
   "source": [
    "string = 'This is Python'\n",
    "strings = \"This is Python\"\n",
    "char = \"C\"  # we don't have char in python. \n",
    "multiline_str = \"\"\"This is a multiline string with more than one line code.\"\"\"\n",
    "unicode = u\"\\U0001f600\\U0001F606\\U0001F923\"\n",
    "raw_str = r\"raw \\n string\"\n",
    "\n",
    "print(string)\n",
    "print(strings)\n",
    "print(char)\n",
    "print(multiline_str)\n",
    "print(unicode)\n",
    "print(raw_str)"
   ]
  },
  {
   "cell_type": "markdown",
   "id": "60357e17",
   "metadata": {},
   "source": [
    "### 3. Boolean Literal"
   ]
  },
  {
   "cell_type": "code",
   "execution_count": 3,
   "id": "e395d8e7",
   "metadata": {},
   "outputs": [
    {
     "name": "stdout",
     "output_type": "stream",
     "text": [
      "a: 5\n",
      "b: 10\n"
     ]
    }
   ],
   "source": [
    "a = True + 4 #(True = 1 + 4 =>5)\n",
    "b = False + 10 #(False = 0 +10 => 10)\n",
    "\n",
    "print(\"a:\", a)\n",
    "print(\"b:\", b)"
   ]
  },
  {
   "cell_type": "markdown",
   "id": "ee23aadd",
   "metadata": {},
   "source": [
    "### 4. Special Literal"
   ]
  },
  {
   "cell_type": "code",
   "execution_count": 4,
   "id": "2b6bcaf7",
   "metadata": {},
   "outputs": [
    {
     "name": "stdout",
     "output_type": "stream",
     "text": [
      "None\n"
     ]
    }
   ],
   "source": [
    "a = None\n",
    "print(a)"
   ]
  },
  {
   "cell_type": "code",
   "execution_count": 7,
   "id": "f59b182c",
   "metadata": {},
   "outputs": [
    {
     "data": {
      "text/plain": [
       "NoneType"
      ]
     },
     "execution_count": 7,
     "metadata": {},
     "output_type": "execute_result"
    }
   ],
   "source": [
    "type(a)"
   ]
  },
  {
   "cell_type": "markdown",
   "id": "a21d3ee6",
   "metadata": {},
   "source": [
    "### as we can't declare any variable without it's value. and we wish to declare and keep for future."
   ]
  },
  {
   "cell_type": "code",
   "execution_count": 5,
   "id": "6b389f9e",
   "metadata": {},
   "outputs": [],
   "source": [
    "c = 34+45"
   ]
  },
  {
   "cell_type": "code",
   "execution_count": 6,
   "id": "82af883e",
   "metadata": {},
   "outputs": [],
   "source": [
    "# variable declare\n",
    "k = None\n"
   ]
  },
  {
   "cell_type": "code",
   "execution_count": null,
   "id": "4d176f5e",
   "metadata": {},
   "outputs": [],
   "source": []
  }
 ],
 "metadata": {
  "kernelspec": {
   "display_name": "Python 3 (ipykernel)",
   "language": "python",
   "name": "python3"
  },
  "language_info": {
   "codemirror_mode": {
    "name": "ipython",
    "version": 3
   },
   "file_extension": ".py",
   "mimetype": "text/x-python",
   "name": "python",
   "nbconvert_exporter": "python",
   "pygments_lexer": "ipython3",
   "version": "3.11.4"
  }
 },
 "nbformat": 4,
 "nbformat_minor": 5
}
