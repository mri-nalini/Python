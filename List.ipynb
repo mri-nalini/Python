{
 "cells": [
  {
   "cell_type": "markdown",
   "id": "9801333d",
   "metadata": {},
   "source": [
    "List\n",
    "\n",
    "* what is list? \n",
    "* list vs Array\n",
    "* create\n",
    "* Access\n",
    "* Edit\n",
    "* Add\n",
    "* delete\n",
    "* operations\n",
    "* Functions"
   ]
  },
  {
   "cell_type": "markdown",
   "id": "32a42d17",
   "metadata": {},
   "source": [
    "List : A built-in data type that stores set of values.\n",
    "    \n",
    "It can store elements of different types(integer, float, strings, etc.)"
   ]
  },
  {
   "cell_type": "code",
   "execution_count": 1,
   "id": "ff279414",
   "metadata": {},
   "outputs": [
    {
     "data": {
      "text/plain": [
       "6"
      ]
     },
     "execution_count": 1,
     "metadata": {},
     "output_type": "execute_result"
    }
   ],
   "source": [
    "marks = [43,23,12,43,25,65]  #=> marks[0], marks[1]....\n",
    "\n",
    "student = [\"mri\",23,\"bangalore\"]  # => student[0]....\n",
    "\n",
    "student = \"ronald\" # allowed in python \n",
    "\n",
    "len(student)"
   ]
  },
  {
   "cell_type": "code",
   "execution_count": 2,
   "id": "fa2e1043",
   "metadata": {},
   "outputs": [],
   "source": [
    "#list vs array"
   ]
  },
  {
   "cell_type": "code",
   "execution_count": null,
   "id": "038b9817",
   "metadata": {},
   "outputs": [],
   "source": []
  },
  {
   "cell_type": "code",
   "execution_count": 4,
   "id": "d5fb6c2e",
   "metadata": {},
   "outputs": [
    {
     "name": "stdout",
     "output_type": "stream",
     "text": [
      "[] [1, 2, 3, 4] ['Mrinalini', 98, 8]\n"
     ]
    }
   ],
   "source": [
    "# Creating list \n",
    "\n",
    "L = []  # empty list \n",
    "\n",
    "L1 = [1,2,3,4] # homogenous list \n",
    "\n",
    "L2 = ['Mrinalini',98,1+7] # heterogeneous list\n",
    "\n",
    "print(L,L1,L2)"
   ]
  },
  {
   "cell_type": "code",
   "execution_count": 6,
   "id": "cca1eb10",
   "metadata": {},
   "outputs": [
    {
     "data": {
      "text/plain": [
       "[1, 2, 3, [4, 5]]"
      ]
     },
     "execution_count": 6,
     "metadata": {},
     "output_type": "execute_result"
    }
   ],
   "source": [
    "#multi- dimensionaly list \n",
    "#2D\n",
    "L3 = [1,2,3,[4,5]]\n",
    "L3"
   ]
  },
  {
   "cell_type": "code",
   "execution_count": 7,
   "id": "c3fd6e91",
   "metadata": {},
   "outputs": [
    {
     "data": {
      "text/plain": [
       "[[[1, 2], [3, 4]], [[5, 6], [7, 8]]]"
      ]
     },
     "execution_count": 7,
     "metadata": {},
     "output_type": "execute_result"
    }
   ],
   "source": [
    "# 3d List \n",
    "L4 = [[[1,2],[3,4]],[[5,6],[7,8]]]\n",
    "L4"
   ]
  },
  {
   "cell_type": "code",
   "execution_count": 11,
   "id": "454c958f",
   "metadata": {},
   "outputs": [
    {
     "name": "stdout",
     "output_type": "stream",
     "text": [
      "['m', 'r', 'i', 'n', 'a', 'l', 'i', 'n', 'i']\n",
      "[]\n"
     ]
    }
   ],
   "source": [
    "L5 = list('mrinalini')\n",
    "print(L5)\n",
    "\n",
    "L6 = list()\n",
    "print(L6)"
   ]
  },
  {
   "cell_type": "code",
   "execution_count": 15,
   "id": "4691dac5",
   "metadata": {},
   "outputs": [
    {
     "name": "stdout",
     "output_type": "stream",
     "text": [
      "1\n",
      "4\n",
      "[1, 2, 3, 4]\n"
     ]
    }
   ],
   "source": [
    "#removing\n",
    "\n",
    "print(L1[0])\n",
    "print(L1[-1])\n",
    "print(L1)\n"
   ]
  },
  {
   "cell_type": "markdown",
   "id": "128900aa",
   "metadata": {},
   "source": [
    "# Accessing the list "
   ]
  },
  {
   "cell_type": "code",
   "execution_count": 20,
   "id": "c3069b1f",
   "metadata": {},
   "outputs": [
    {
     "name": "stdout",
     "output_type": "stream",
     "text": [
      "[1, 2, 3, [4, 5]]\n",
      "4\n"
     ]
    }
   ],
   "source": [
    "#take value from the list which is within the list \n",
    "\n",
    "print(L3)     \n",
    "# putput : [1, 2, 3, [4, 5]]   take the 4 value from the list \n",
    "\n",
    "x=L3[-1]  # by this 2nd list will be pull then assign to a variable and pull the\n",
    "# 0th value \n",
    "print(x[0])"
   ]
  },
  {
   "cell_type": "code",
   "execution_count": 21,
   "id": "85668ca6",
   "metadata": {},
   "outputs": [
    {
     "data": {
      "text/plain": [
       "4"
      ]
     },
     "execution_count": 21,
     "metadata": {},
     "output_type": "execute_result"
    }
   ],
   "source": [
    "L3[-1][0]"
   ]
  },
  {
   "cell_type": "code",
   "execution_count": 22,
   "id": "6c9213e1",
   "metadata": {},
   "outputs": [
    {
     "data": {
      "text/plain": [
       "5"
      ]
     },
     "execution_count": 22,
     "metadata": {},
     "output_type": "execute_result"
    }
   ],
   "source": [
    "L3[-1][-1]"
   ]
  },
  {
   "cell_type": "code",
   "execution_count": 25,
   "id": "b4961b33",
   "metadata": {},
   "outputs": [
    {
     "name": "stdout",
     "output_type": "stream",
     "text": [
      "7\n",
      "7\n"
     ]
    }
   ],
   "source": [
    "print(L4[-1][-1][0])\n",
    "print(L4[1][1][0])"
   ]
  },
  {
   "cell_type": "markdown",
   "id": "ee2f5ce1",
   "metadata": {},
   "source": [
    "# Edit the List "
   ]
  },
  {
   "cell_type": "code",
   "execution_count": 31,
   "id": "ca206bf6",
   "metadata": {},
   "outputs": [],
   "source": [
    "L[0] = 100\n",
    "# List in python are mutable"
   ]
  },
  {
   "cell_type": "code",
   "execution_count": 32,
   "id": "ff173086",
   "metadata": {},
   "outputs": [
    {
     "data": {
      "text/plain": [
       "[100, 300, 400]"
      ]
     },
     "execution_count": 32,
     "metadata": {},
     "output_type": "execute_result"
    }
   ],
   "source": [
    "L"
   ]
  },
  {
   "cell_type": "code",
   "execution_count": 33,
   "id": "988ad207",
   "metadata": {},
   "outputs": [],
   "source": [
    "L[1:4] = [200,300,400]"
   ]
  },
  {
   "cell_type": "code",
   "execution_count": 34,
   "id": "799d9560",
   "metadata": {},
   "outputs": [
    {
     "data": {
      "text/plain": [
       "[100, 200, 300, 400]"
      ]
     },
     "execution_count": 34,
     "metadata": {},
     "output_type": "execute_result"
    }
   ],
   "source": [
    "L"
   ]
  },
  {
   "cell_type": "markdown",
   "id": "23e294a3",
   "metadata": {},
   "source": [
    "# ADD "
   ]
  },
  {
   "cell_type": "code",
   "execution_count": 46,
   "id": "990b917e",
   "metadata": {},
   "outputs": [
    {
     "data": {
      "text/plain": [
       "[100, 200, 300, 400, 1000, 1000]"
      ]
     },
     "execution_count": 46,
     "metadata": {},
     "output_type": "execute_result"
    }
   ],
   "source": [
    "# 100 add\n",
    "L.append(1000)\n",
    "L"
   ]
  },
  {
   "cell_type": "code",
   "execution_count": 47,
   "id": "53f09cfa",
   "metadata": {},
   "outputs": [
    {
     "data": {
      "text/plain": [
       "[100, 200, 300, 400, 1000, 1000, 'mrinal']"
      ]
     },
     "execution_count": 47,
     "metadata": {},
     "output_type": "execute_result"
    }
   ],
   "source": [
    "L.append(\"mrinal\")  # onlu one item each time\n",
    "L"
   ]
  },
  {
   "cell_type": "markdown",
   "id": "28292722",
   "metadata": {},
   "source": [
    "# Remove"
   ]
  },
  {
   "cell_type": "code",
   "execution_count": 48,
   "id": "9ede29ff",
   "metadata": {},
   "outputs": [],
   "source": [
    "# L.remove('mrinal')"
   ]
  },
  {
   "cell_type": "markdown",
   "id": "6c1b9241",
   "metadata": {},
   "source": [
    "# Extend"
   ]
  },
  {
   "cell_type": "code",
   "execution_count": 53,
   "id": "be906b85",
   "metadata": {},
   "outputs": [
    {
     "data": {
      "text/plain": [
       "[100, 200, 300, 400, 1000, 1000]"
      ]
     },
     "execution_count": 53,
     "metadata": {},
     "output_type": "execute_result"
    }
   ],
   "source": [
    "L"
   ]
  },
  {
   "cell_type": "code",
   "execution_count": 55,
   "id": "9f6eb474",
   "metadata": {},
   "outputs": [
    {
     "data": {
      "text/plain": [
       "[100, 200, 300, 400, 1000, 1000, 500, 600]"
      ]
     },
     "execution_count": 55,
     "metadata": {},
     "output_type": "execute_result"
    }
   ],
   "source": [
    "# multiple values can be added in single go\n",
    "L.extend((500,600))\n",
    "L"
   ]
  },
  {
   "cell_type": "markdown",
   "id": "c88dded4",
   "metadata": {},
   "source": [
    "# Insert"
   ]
  },
  {
   "cell_type": "code",
   "execution_count": 56,
   "id": "9c74c4d5",
   "metadata": {},
   "outputs": [],
   "source": [
    "# insert at desired destination \n",
    "\n",
    "L.insert(1,'world')"
   ]
  },
  {
   "cell_type": "code",
   "execution_count": 57,
   "id": "1c9319b2",
   "metadata": {},
   "outputs": [
    {
     "data": {
      "text/plain": [
       "[100, 'world', 200, 300, 400, 1000, 1000, 500, 600]"
      ]
     },
     "execution_count": 57,
     "metadata": {},
     "output_type": "execute_result"
    }
   ],
   "source": [
    "L"
   ]
  },
  {
   "cell_type": "markdown",
   "id": "551ab761",
   "metadata": {},
   "source": [
    "# Delete"
   ]
  },
  {
   "cell_type": "code",
   "execution_count": 58,
   "id": "8673d099",
   "metadata": {},
   "outputs": [],
   "source": [
    "del L2"
   ]
  },
  {
   "cell_type": "markdown",
   "id": "4d4944b3",
   "metadata": {},
   "source": [
    "# Remove"
   ]
  },
  {
   "cell_type": "code",
   "execution_count": 60,
   "id": "e2e879bf",
   "metadata": {},
   "outputs": [],
   "source": [
    "L.remove('world')"
   ]
  },
  {
   "cell_type": "markdown",
   "id": "d8c57e72",
   "metadata": {},
   "source": [
    "# pop "
   ]
  },
  {
   "cell_type": "code",
   "execution_count": 61,
   "id": "db7ece46",
   "metadata": {},
   "outputs": [
    {
     "data": {
      "text/plain": [
       "[200, 300, 400, 1000, 1000, 500]"
      ]
     },
     "execution_count": 61,
     "metadata": {},
     "output_type": "execute_result"
    }
   ],
   "source": [
    "# deleted from the last item\n",
    "\n",
    "L.pop()\n",
    "L"
   ]
  },
  {
   "cell_type": "markdown",
   "id": "6071f436",
   "metadata": {},
   "source": [
    "# clear"
   ]
  },
  {
   "cell_type": "code",
   "execution_count": 63,
   "id": "5e5a9271",
   "metadata": {},
   "outputs": [
    {
     "data": {
      "text/plain": [
       "[]"
      ]
     },
     "execution_count": 63,
     "metadata": {},
     "output_type": "execute_result"
    }
   ],
   "source": [
    "L.clear()\n",
    "L"
   ]
  },
  {
   "cell_type": "markdown",
   "id": "2bcd4344",
   "metadata": {},
   "source": [
    "# Operations In List "
   ]
  },
  {
   "cell_type": "code",
   "execution_count": 64,
   "id": "cf8191c5",
   "metadata": {},
   "outputs": [
    {
     "data": {
      "text/plain": [
       "[1, 2, 3, 4, 5, 6, 7, 8]"
      ]
     },
     "execution_count": 64,
     "metadata": {},
     "output_type": "execute_result"
    }
   ],
   "source": [
    "# Add\n",
    "\n",
    "L= [1,2,3,4]\n",
    "L2 = [5,6,7,8]\n",
    "L+L2"
   ]
  },
  {
   "cell_type": "code",
   "execution_count": 65,
   "id": "6a65887b",
   "metadata": {},
   "outputs": [
    {
     "data": {
      "text/plain": [
       "[1, 2, 3, 4, 1, 2, 3, 4, 1, 2, 3, 4]"
      ]
     },
     "execution_count": 65,
     "metadata": {},
     "output_type": "execute_result"
    }
   ],
   "source": [
    "L*3"
   ]
  },
  {
   "cell_type": "code",
   "execution_count": 67,
   "id": "c29dacbb",
   "metadata": {},
   "outputs": [
    {
     "name": "stdout",
     "output_type": "stream",
     "text": [
      "1\n",
      "2\n",
      "3\n",
      "4\n"
     ]
    }
   ],
   "source": [
    "for i in L:\n",
    "    print(i)"
   ]
  },
  {
   "cell_type": "code",
   "execution_count": 69,
   "id": "22be006b",
   "metadata": {},
   "outputs": [
    {
     "data": {
      "text/plain": [
       "True"
      ]
     },
     "execution_count": 69,
     "metadata": {},
     "output_type": "execute_result"
    }
   ],
   "source": [
    "## membership operator\n",
    "\n",
    "[4,5] in L3 "
   ]
  },
  {
   "cell_type": "markdown",
   "id": "00a04431",
   "metadata": {},
   "source": [
    "# Function"
   ]
  },
  {
   "cell_type": "code",
   "execution_count": 70,
   "id": "a87f4931",
   "metadata": {},
   "outputs": [
    {
     "data": {
      "text/plain": [
       "[100, 2, 3, 4]"
      ]
     },
     "execution_count": 70,
     "metadata": {},
     "output_type": "execute_result"
    }
   ],
   "source": [
    "L1"
   ]
  },
  {
   "cell_type": "code",
   "execution_count": 73,
   "id": "1d50176c",
   "metadata": {},
   "outputs": [
    {
     "name": "stdout",
     "output_type": "stream",
     "text": [
      "4\n",
      "2\n",
      "100\n",
      "[2, 3, 4, 100]\n",
      "[100, 4, 3, 2]\n"
     ]
    }
   ],
   "source": [
    "print(len(L1))\n",
    "print(min(L1))\n",
    "print(max(L1))\n",
    "print(sorted(L1))\n",
    "print(sorted(L1,reverse = True))"
   ]
  },
  {
   "cell_type": "code",
   "execution_count": 78,
   "id": "2f86839d",
   "metadata": {},
   "outputs": [
    {
     "data": {
      "text/plain": [
       "1"
      ]
     },
     "execution_count": 78,
     "metadata": {},
     "output_type": "execute_result"
    }
   ],
   "source": [
    "L1.index(3)\n"
   ]
  },
  {
   "cell_type": "code",
   "execution_count": 80,
   "id": "e2e1ed77",
   "metadata": {},
   "outputs": [
    {
     "data": {
      "text/plain": [
       "'Hello! How Are You'"
      ]
     },
     "execution_count": 80,
     "metadata": {},
     "output_type": "execute_result"
    }
   ],
   "source": [
    "\"hello! how are you\".title()"
   ]
  },
  {
   "cell_type": "code",
   "execution_count": 84,
   "id": "0e48066c",
   "metadata": {},
   "outputs": [
    {
     "name": "stdout",
     "output_type": "stream",
     "text": [
      "['how', 'are', 'you?']\n",
      "How\n",
      "Are\n",
      "You?\n",
      "['How', 'Are', 'You?']\n",
      "HowAreYou?\n"
     ]
    }
   ],
   "source": [
    "sample = \"how are you?\"\n",
    "print(sample.split())\n",
    "\n",
    "L=[]\n",
    "\n",
    "for i in sample.split():\n",
    "    print(i.capitalize())\n",
    "    L.append(i.capitalize())\n",
    "print(L)\n",
    "             \n",
    "print(\"\".join(L))"
   ]
  },
  {
   "cell_type": "code",
   "execution_count": 88,
   "id": "e9358007",
   "metadata": {},
   "outputs": [
    {
     "name": "stdout",
     "output_type": "stream",
     "text": [
      "mri\n"
     ]
    }
   ],
   "source": [
    "sample = \"mri@gmail.com\" \n",
    "\n",
    "print(sample[:sample.find(\"@\")])"
   ]
  },
  {
   "cell_type": "code",
   "execution_count": 89,
   "id": "c15c1941",
   "metadata": {},
   "outputs": [
    {
     "name": "stdout",
     "output_type": "stream",
     "text": [
      "[1, 2, 3, 4]\n"
     ]
    }
   ],
   "source": [
    "#remove duplicates from the list\n",
    "mylist = [1,1,1,1,2,2,2,3,3,4,4]\n",
    "mylist = list(dict.fromkeys(mylist))\n",
    "print(mylist)"
   ]
  },
  {
   "cell_type": "code",
   "execution_count": 93,
   "id": "ca0f2f18",
   "metadata": {},
   "outputs": [
    {
     "name": "stdout",
     "output_type": "stream",
     "text": [
      "[1, 2, 3, 4]\n"
     ]
    }
   ],
   "source": [
    "# other way to remove duplicates\n",
    "\n",
    "L1 = [1,1,1,1,2,2,2,3,3,4,4]\n",
    "L2 = [1,2,3,4]\n",
    "\n",
    "L=[]\n",
    "for i in L1:\n",
    "    if i not in L:\n",
    "        L.append(i)\n",
    "print(L)"
   ]
  },
  {
   "cell_type": "code",
   "execution_count": null,
   "id": "001e46f7",
   "metadata": {},
   "outputs": [],
   "source": []
  },
  {
   "cell_type": "code",
   "execution_count": null,
   "id": "8ec40366",
   "metadata": {},
   "outputs": [],
   "source": []
  }
 ],
 "metadata": {
  "kernelspec": {
   "display_name": "Python 3 (ipykernel)",
   "language": "python",
   "name": "python3"
  },
  "language_info": {
   "codemirror_mode": {
    "name": "ipython",
    "version": 3
   },
   "file_extension": ".py",
   "mimetype": "text/x-python",
   "name": "python",
   "nbconvert_exporter": "python",
   "pygments_lexer": "ipython3",
   "version": "3.11.4"
  }
 },
 "nbformat": 4,
 "nbformat_minor": 5
}
