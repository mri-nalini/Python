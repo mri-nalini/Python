{
 "cells": [
  {
   "cell_type": "markdown",
   "id": "b89fbfa5",
   "metadata": {},
   "source": [
    "Dictionaries are used to store data values in key:value pairs.\n",
    "\n",
    "A dictionary is a collection which is ordered*, changeable and do not allow duplicates."
   ]
  },
  {
   "cell_type": "code",
   "execution_count": 2,
   "id": "ec22e4e5",
   "metadata": {},
   "outputs": [
    {
     "data": {
      "text/plain": [
       "dict"
      ]
     },
     "execution_count": 2,
     "metadata": {},
     "output_type": "execute_result"
    }
   ],
   "source": [
    "d1={\"Name\":\"Mrinalini\",\"Gender\":\"Male\"}\n",
    "type(d1)"
   ]
  },
  {
   "cell_type": "markdown",
   "id": "3e430bff",
   "metadata": {},
   "source": [
    "#  Rules :\n",
    "    \n",
    "### Dictionary has no indexing \n",
    "### Dictionary is a mutable types\n",
    "### Keys -> Immutable\n",
    "### Values -> Mutable\n",
    "### Keys should be unique"
   ]
  },
  {
   "cell_type": "markdown",
   "id": "dbf68477",
   "metadata": {},
   "source": [
    "* Mutable =>  List/Sets/Dictionary"
   ]
  },
  {
   "cell_type": "markdown",
   "id": "d9ec79f9",
   "metadata": {},
   "source": [
    "* Immutable => Strings/tuples/int/float/Boolean/Complex"
   ]
  },
  {
   "cell_type": "markdown",
   "id": "faa50c17",
   "metadata": {},
   "source": [
    "# Create Dictionary\n"
   ]
  },
  {
   "cell_type": "code",
   "execution_count": 5,
   "id": "e896fbe8",
   "metadata": {},
   "outputs": [
    {
     "data": {
      "text/plain": [
       "dict"
      ]
     },
     "execution_count": 5,
     "metadata": {},
     "output_type": "execute_result"
    }
   ],
   "source": [
    "d = {}\n",
    "type(d)"
   ]
  },
  {
   "cell_type": "code",
   "execution_count": 6,
   "id": "276a2eeb",
   "metadata": {},
   "outputs": [
    {
     "data": {
      "text/plain": [
       "dict"
      ]
     },
     "execution_count": 6,
     "metadata": {},
     "output_type": "execute_result"
    }
   ],
   "source": [
    "d1={\"Name\":\"Mrinalini\",\"Gender\":\"Male\"}\n",
    "type(d1)"
   ]
  },
  {
   "cell_type": "code",
   "execution_count": 8,
   "id": "bd1bd9e3",
   "metadata": {},
   "outputs": [
    {
     "ename": "TypeError",
     "evalue": "unhashable type: 'list'",
     "output_type": "error",
     "traceback": [
      "\u001b[1;31m---------------------------------------------------------------------------\u001b[0m",
      "\u001b[1;31mTypeError\u001b[0m                                 Traceback (most recent call last)",
      "Cell \u001b[1;32mIn[8], line 1\u001b[0m\n\u001b[1;32m----> 1\u001b[0m d1\u001b[38;5;241m=\u001b[39m{[\u001b[38;5;241m1\u001b[39m,\u001b[38;5;241m2\u001b[39m,\u001b[38;5;241m3\u001b[39m]:\u001b[38;5;124m\"\u001b[39m\u001b[38;5;124mMrinalini\u001b[39m\u001b[38;5;124m\"\u001b[39m}\n\u001b[0;32m      2\u001b[0m \u001b[38;5;28mtype\u001b[39m(d1)\n",
      "\u001b[1;31mTypeError\u001b[0m: unhashable type: 'list'"
     ]
    }
   ],
   "source": [
    "d1={[1,2,3]:\"Mrinalini\"}   # error occured as there is list & list is muttable and key value should be immutable\n",
    "type(d1)"
   ]
  },
  {
   "cell_type": "code",
   "execution_count": 9,
   "id": "592a4a63",
   "metadata": {},
   "outputs": [
    {
     "data": {
      "text/plain": [
       "dict"
      ]
     },
     "execution_count": 9,
     "metadata": {},
     "output_type": "execute_result"
    }
   ],
   "source": [
    "d1={(1,2,3):\"Mrinalini\"} # Executable as tuple is immutable and key values too. \n",
    "type(d1)"
   ]
  },
  {
   "cell_type": "code",
   "execution_count": 10,
   "id": "d041c8bb",
   "metadata": {},
   "outputs": [
    {
     "data": {
      "text/plain": [
       "{'name': 'rohit'}"
      ]
     },
     "execution_count": 10,
     "metadata": {},
     "output_type": "execute_result"
    }
   ],
   "source": [
    "d2 = {\"name\":\"rahul\",\"name\":\"rohit\"}\n",
    "d2\n",
    "\n",
    "# Only last entry is shown : Every key instance will be kept but the recent one."
   ]
  },
  {
   "cell_type": "markdown",
   "id": "1a84b709",
   "metadata": {},
   "source": [
    "\n",
    "## How to create 2D Dictionary"
   ]
  },
  {
   "cell_type": "code",
   "execution_count": 12,
   "id": "cf5c1857",
   "metadata": {},
   "outputs": [
    {
     "data": {
      "text/plain": [
       "{'Name': 'Mrinalini Das',\n",
       " 'College': 'Jain University',\n",
       " 'Marks': {'M1': 56, 'ML': 65, 'SQL': 66}}"
      ]
     },
     "execution_count": 12,
     "metadata": {},
     "output_type": "execute_result"
    }
   ],
   "source": [
    "d3 = {\"Name\":\"Mrinalini Das\",\"College\":\"Jain University\",\"Marks\":{\"M1\":56,\"ML\":65,\"SQL\":66}}\n",
    "d3"
   ]
  },
  {
   "cell_type": "markdown",
   "id": "aaf6201f",
   "metadata": {},
   "source": [
    "## Access from dictionary \n"
   ]
  },
  {
   "cell_type": "code",
   "execution_count": 13,
   "id": "b3409ddd",
   "metadata": {},
   "outputs": [
    {
     "data": {
      "text/plain": [
       "'Mrinalini Das'"
      ]
     },
     "execution_count": 13,
     "metadata": {},
     "output_type": "execute_result"
    }
   ],
   "source": [
    "d3[\"Name\"]\n"
   ]
  },
  {
   "cell_type": "markdown",
   "id": "ec83fee4",
   "metadata": {},
   "source": [
    "Dictionary Has\n",
    "\n",
    "* NO INDEXING\n",
    "* NO NEGATIVE INDEX\n",
    "* NO SLICLING\n",
    "\n",
    "So we can fetch only by one way that it by providing the correct key value"
   ]
  },
  {
   "cell_type": "code",
   "execution_count": 16,
   "id": "4189f075",
   "metadata": {},
   "outputs": [
    {
     "data": {
      "text/plain": [
       "{'M1': 56, 'ML': 65, 'SQL': 66}"
      ]
     },
     "execution_count": 16,
     "metadata": {},
     "output_type": "execute_result"
    }
   ],
   "source": [
    "d3[\"Marks\"]"
   ]
  },
  {
   "cell_type": "code",
   "execution_count": 17,
   "id": "1aa81f20",
   "metadata": {},
   "outputs": [
    {
     "data": {
      "text/plain": [
       "65"
      ]
     },
     "execution_count": 17,
     "metadata": {},
     "output_type": "execute_result"
    }
   ],
   "source": [
    "d3[\"Marks\"][\"ML\"]"
   ]
  },
  {
   "cell_type": "markdown",
   "id": "92bdde63",
   "metadata": {},
   "source": [
    "## Edit in Dictionary "
   ]
  },
  {
   "cell_type": "code",
   "execution_count": 20,
   "id": "5e18e7f9",
   "metadata": {},
   "outputs": [
    {
     "data": {
      "text/plain": [
       "{'Name': 'Mri',\n",
       " 'College': 'Jain University',\n",
       " 'Marks': {'M1': 56, 'ML': 65, 'SQL': 66}}"
      ]
     },
     "execution_count": 20,
     "metadata": {},
     "output_type": "execute_result"
    }
   ],
   "source": [
    "d3[\"Name\"]=\"Mri\"\n",
    "d3"
   ]
  },
  {
   "cell_type": "code",
   "execution_count": 22,
   "id": "dbd68f79",
   "metadata": {},
   "outputs": [
    {
     "data": {
      "text/plain": [
       "{'Name': 'Mri',\n",
       " 'College': 'Jain University',\n",
       " 'Marks': {'M1': 67, 'ML': 65, 'SQL': 66}}"
      ]
     },
     "execution_count": 22,
     "metadata": {},
     "output_type": "execute_result"
    }
   ],
   "source": [
    "d3[\"Marks\"][\"M1\"]=67\n",
    "d3"
   ]
  },
  {
   "cell_type": "code",
   "execution_count": 23,
   "id": "90e0ecca",
   "metadata": {},
   "outputs": [
    {
     "data": {
      "text/plain": [
       "'Mri'"
      ]
     },
     "execution_count": 23,
     "metadata": {},
     "output_type": "execute_result"
    }
   ],
   "source": [
    "d3.get(\"Name\")"
   ]
  },
  {
   "cell_type": "markdown",
   "id": "5730c068",
   "metadata": {},
   "source": [
    "## Add New key value pairs\n"
   ]
  },
  {
   "cell_type": "code",
   "execution_count": 24,
   "id": "769a441e",
   "metadata": {},
   "outputs": [
    {
     "data": {
      "text/plain": [
       "{'Name': 'Mri',\n",
       " 'College': 'Jain University',\n",
       " 'Marks': {'M1': 67, 'ML': 65, 'SQL': 66}}"
      ]
     },
     "execution_count": 24,
     "metadata": {},
     "output_type": "execute_result"
    }
   ],
   "source": [
    "d3"
   ]
  },
  {
   "cell_type": "code",
   "execution_count": 25,
   "id": "c45afdb0",
   "metadata": {},
   "outputs": [
    {
     "data": {
      "text/plain": [
       "{'Name': 'Mri',\n",
       " 'College': 'Jain University',\n",
       " 'Marks': {'M1': 67, 'ML': 65, 'SQL': 66},\n",
       " 'Age': 23}"
      ]
     },
     "execution_count": 25,
     "metadata": {},
     "output_type": "execute_result"
    }
   ],
   "source": [
    "d3[\"Age\"]=23\n",
    "d3"
   ]
  },
  {
   "cell_type": "code",
   "execution_count": 26,
   "id": "66c6ffff",
   "metadata": {},
   "outputs": [
    {
     "data": {
      "text/plain": [
       "{'Name': 'Mri',\n",
       " 'College': 'Jain University',\n",
       " 'Marks': {'M1': 67, 'ML': 65, 'SQL': 66, 'DA': 66},\n",
       " 'Age': 23}"
      ]
     },
     "execution_count": 26,
     "metadata": {},
     "output_type": "execute_result"
    }
   ],
   "source": [
    "d3[\"Marks\"][\"DA\"] = 66\n",
    "d3"
   ]
  },
  {
   "cell_type": "markdown",
   "id": "12a722ab",
   "metadata": {},
   "source": [
    "##  Delete from the Dictionary "
   ]
  },
  {
   "cell_type": "code",
   "execution_count": 28,
   "id": "f017f524",
   "metadata": {},
   "outputs": [
    {
     "data": {
      "text/plain": [
       "dict"
      ]
     },
     "execution_count": 28,
     "metadata": {},
     "output_type": "execute_result"
    }
   ],
   "source": [
    "d4={}\n",
    "type(d4)"
   ]
  },
  {
   "cell_type": "code",
   "execution_count": 29,
   "id": "92d2a6ad",
   "metadata": {},
   "outputs": [],
   "source": [
    "del d4"
   ]
  },
  {
   "cell_type": "code",
   "execution_count": 31,
   "id": "c9be224b",
   "metadata": {},
   "outputs": [
    {
     "data": {
      "text/plain": [
       "{'Name': 'Mri',\n",
       " 'College': 'Jain University',\n",
       " 'Marks': {'M1': 67, 'ML': 65, 'SQL': 66, 'DA': 66}}"
      ]
     },
     "execution_count": 31,
     "metadata": {},
     "output_type": "execute_result"
    }
   ],
   "source": [
    "del d3[\"Age\"]\n",
    "d3"
   ]
  },
  {
   "cell_type": "code",
   "execution_count": 32,
   "id": "11595aef",
   "metadata": {},
   "outputs": [
    {
     "data": {
      "text/plain": [
       "{}"
      ]
     },
     "execution_count": 32,
     "metadata": {},
     "output_type": "execute_result"
    }
   ],
   "source": [
    "d2.clear()\n",
    "d2"
   ]
  },
  {
   "cell_type": "markdown",
   "id": "b1b53669",
   "metadata": {},
   "source": [
    "## Operations In Dictionary "
   ]
  },
  {
   "cell_type": "code",
   "execution_count": 41,
   "id": "490c021a",
   "metadata": {},
   "outputs": [
    {
     "name": "stdout",
     "output_type": "stream",
     "text": [
      "{}\n",
      "{(1, 2, 3): 'Mrinalini'}\n",
      "{}\n",
      "{'Name': 'Mri', 'College': 'Jain University', 'Marks': {'M1': 67, 'ML': 65, 'SQL': 66, 'DA': 66}}\n"
     ]
    }
   ],
   "source": [
    "print(d)\n",
    "print(d1)\n",
    "print(d2)\n",
    "print(d3)"
   ]
  },
  {
   "cell_type": "markdown",
   "id": "e34e6168",
   "metadata": {},
   "source": [
    "### no concat \n",
    "### no multiplications "
   ]
  },
  {
   "cell_type": "code",
   "execution_count": 42,
   "id": "dbe662b8",
   "metadata": {},
   "outputs": [
    {
     "name": "stdout",
     "output_type": "stream",
     "text": [
      "Name\n",
      "College\n",
      "Marks\n"
     ]
    }
   ],
   "source": [
    "for i in d3:\n",
    "    print(i)\n",
    "\n",
    "# We will get the keys not the values of the key. "
   ]
  },
  {
   "cell_type": "code",
   "execution_count": 43,
   "id": "2122d22e",
   "metadata": {},
   "outputs": [
    {
     "name": "stdout",
     "output_type": "stream",
     "text": [
      "Name Mri\n",
      "College Jain University\n",
      "Marks {'M1': 67, 'ML': 65, 'SQL': 66, 'DA': 66}\n"
     ]
    }
   ],
   "source": [
    "for i in d3:\n",
    "    print(i,d3[i])\n"
   ]
  },
  {
   "cell_type": "code",
   "execution_count": 44,
   "id": "5215981c",
   "metadata": {},
   "outputs": [
    {
     "data": {
      "text/plain": [
       "True"
      ]
     },
     "execution_count": 44,
     "metadata": {},
     "output_type": "execute_result"
    }
   ],
   "source": [
    "### Membership \n",
    "\n",
    "\"Mri\" in d3\n",
    "\n",
    "# Dictionary is about the Keys not for the values\n",
    "\n",
    "\n",
    "\"Name\" in d3"
   ]
  },
  {
   "cell_type": "code",
   "execution_count": 45,
   "id": "75ca7608",
   "metadata": {},
   "outputs": [
    {
     "data": {
      "text/plain": [
       "3"
      ]
     },
     "execution_count": 45,
     "metadata": {},
     "output_type": "execute_result"
    }
   ],
   "source": [
    "len(d3)"
   ]
  },
  {
   "cell_type": "code",
   "execution_count": 46,
   "id": "45e92125",
   "metadata": {},
   "outputs": [
    {
     "data": {
      "text/plain": [
       "'College'"
      ]
     },
     "execution_count": 46,
     "metadata": {},
     "output_type": "execute_result"
    }
   ],
   "source": [
    "min(d3)"
   ]
  },
  {
   "cell_type": "code",
   "execution_count": 47,
   "id": "af442616",
   "metadata": {},
   "outputs": [
    {
     "data": {
      "text/plain": [
       "'Name'"
      ]
     },
     "execution_count": 47,
     "metadata": {},
     "output_type": "execute_result"
    }
   ],
   "source": [
    "max(d3)"
   ]
  },
  {
   "cell_type": "code",
   "execution_count": 49,
   "id": "a8c2810a",
   "metadata": {},
   "outputs": [
    {
     "data": {
      "text/plain": [
       "['College', 'Marks', 'Name']"
      ]
     },
     "execution_count": 49,
     "metadata": {},
     "output_type": "execute_result"
    }
   ],
   "source": [
    "sorted(d3)"
   ]
  },
  {
   "cell_type": "code",
   "execution_count": 50,
   "id": "3d8a4aae",
   "metadata": {},
   "outputs": [
    {
     "data": {
      "text/plain": [
       "['Name', 'Marks', 'College']"
      ]
     },
     "execution_count": 50,
     "metadata": {},
     "output_type": "execute_result"
    }
   ],
   "source": [
    "sorted(d3,reverse=True)"
   ]
  },
  {
   "cell_type": "code",
   "execution_count": 51,
   "id": "19b0aee2",
   "metadata": {},
   "outputs": [
    {
     "data": {
      "text/plain": [
       "dict_keys(['Name', 'College', 'Marks'])"
      ]
     },
     "execution_count": 51,
     "metadata": {},
     "output_type": "execute_result"
    }
   ],
   "source": [
    "d3.keys()"
   ]
  },
  {
   "cell_type": "code",
   "execution_count": 52,
   "id": "079f66bf",
   "metadata": {},
   "outputs": [
    {
     "data": {
      "text/plain": [
       "dict_values(['Mri', 'Jain University', {'M1': 67, 'ML': 65, 'SQL': 66, 'DA': 66}])"
      ]
     },
     "execution_count": 52,
     "metadata": {},
     "output_type": "execute_result"
    }
   ],
   "source": [
    "d3.values()"
   ]
  },
  {
   "cell_type": "code",
   "execution_count": 53,
   "id": "62af173b",
   "metadata": {},
   "outputs": [
    {
     "data": {
      "text/plain": [
       "dict_items([('Name', 'Mri'), ('College', 'Jain University'), ('Marks', {'M1': 67, 'ML': 65, 'SQL': 66, 'DA': 66})])"
      ]
     },
     "execution_count": 53,
     "metadata": {},
     "output_type": "execute_result"
    }
   ],
   "source": [
    "d3.items()"
   ]
  },
  {
   "cell_type": "markdown",
   "id": "b0833c62",
   "metadata": {},
   "source": [
    "*Thank you*"
   ]
  }
 ],
 "metadata": {
  "kernelspec": {
   "display_name": "Python 3 (ipykernel)",
   "language": "python",
   "name": "python3"
  },
  "language_info": {
   "codemirror_mode": {
    "name": "ipython",
    "version": 3
   },
   "file_extension": ".py",
   "mimetype": "text/x-python",
   "name": "python",
   "nbconvert_exporter": "python",
   "pygments_lexer": "ipython3",
   "version": "3.11.4"
  }
 },
 "nbformat": 4,
 "nbformat_minor": 5
}
