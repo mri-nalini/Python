{
 "cells": [
  {
   "cell_type": "markdown",
   "id": "53e12f0c",
   "metadata": {},
   "source": [
    "Python variables are simply containers for storing data values."
   ]
  },
  {
   "cell_type": "markdown",
   "id": "5c8f4921",
   "metadata": {},
   "source": [
    "#Variable Names\n",
    "* A variable can have a short name (like x and y) or a more descriptive name (age, carname, total_volume). Rules for Python variables:\n",
    "* A variable name must start with a letter or the underscore character\n",
    "* A variable name cannot start with a number\n",
    "* A variable name can only contain alpha-numeric characters and underscores (A-z, 0-9, and _ )\n",
    "* Variable names are case-sensitive (age, Age and AGE are three different variables)\n",
    "* A variable name cannot be any of the Python keywords.\n"
   ]
  },
  {
   "cell_type": "markdown",
   "id": "6fffb93a",
   "metadata": {},
   "source": [
    "name =\"mrinalini\""
   ]
  },
  {
   "cell_type": "code",
   "execution_count": 2,
   "id": "d27cf811",
   "metadata": {},
   "outputs": [
    {
     "name": "stdout",
     "output_type": "stream",
     "text": [
      "mrinalini\n"
     ]
    }
   ],
   "source": [
    "print(name)"
   ]
  },
  {
   "cell_type": "code",
   "execution_count": 3,
   "id": "7da2dc5a",
   "metadata": {},
   "outputs": [
    {
     "name": "stdout",
     "output_type": "stream",
     "text": [
      "10\n"
     ]
    }
   ],
   "source": [
    "age = 10\n",
    "print(age)"
   ]
  },
  {
   "cell_type": "markdown",
   "id": "18e58163",
   "metadata": {},
   "source": [
    "<h4> #dynamic typing\n",
    "\n",
    "* the type of the variable is determined only during runtime.\n",
    "\n",
    "we don't have to declare our variable also we don't have to specify datatype while declaring the variable.  python will automatically introduce.\n",
    "\n",
    "<h4> #static typing \n",
    "    \n",
    "* checks are performed without running the program. "
   ]
  },
  {
   "cell_type": "code",
   "execution_count": 5,
   "id": "4bfbd5ce",
   "metadata": {},
   "outputs": [
    {
     "name": "stdout",
     "output_type": "stream",
     "text": [
      "True\n"
     ]
    }
   ],
   "source": [
    "name= True\n",
    "print(name)"
   ]
  },
  {
   "cell_type": "markdown",
   "id": "77f4f5df",
   "metadata": {},
   "source": [
    "#### dynamic Binding :  the process by which the interpreter binds each function call to its associated object reference at run-time. \n",
    "\n",
    "one variable can change it's datatypes"
   ]
  },
  {
   "cell_type": "markdown",
   "id": "bb99b943",
   "metadata": {},
   "source": [
    "#### Static Binding :  happens at compile-time, i.e., the function call and the function definition are linked during the compile time itself."
   ]
  },
  {
   "cell_type": "code",
   "execution_count": 11,
   "id": "1752ccdd",
   "metadata": {},
   "outputs": [
    {
     "name": "stdout",
     "output_type": "stream",
     "text": [
      "1\n",
      "2\n",
      "4\n"
     ]
    }
   ],
   "source": [
    "# special Syntax\n",
    "\n",
    "a=1;b=2;c=4\n",
    "print(a)\n",
    "print(b)\n",
    "print(c)"
   ]
  },
  {
   "cell_type": "code",
   "execution_count": 13,
   "id": "dfe18c29",
   "metadata": {},
   "outputs": [
    {
     "name": "stdout",
     "output_type": "stream",
     "text": [
      "4\n",
      "5\n",
      "6\n"
     ]
    }
   ],
   "source": [
    "a,b,c =4,5,6\n",
    "print(a)\n",
    "print(b)\n",
    "print(c)"
   ]
  },
  {
   "cell_type": "code",
   "execution_count": 14,
   "id": "8f6a5c3f",
   "metadata": {},
   "outputs": [
    {
     "name": "stdout",
     "output_type": "stream",
     "text": [
      "6\n",
      "6\n",
      "6\n"
     ]
    }
   ],
   "source": [
    "a=b=c=6\n",
    "print(a)\n",
    "print(b)\n",
    "print(c)"
   ]
  },
  {
   "cell_type": "code",
   "execution_count": null,
   "id": "bb7c238e",
   "metadata": {},
   "outputs": [],
   "source": []
  }
 ],
 "metadata": {
  "kernelspec": {
   "display_name": "Python 3 (ipykernel)",
   "language": "python",
   "name": "python3"
  },
  "language_info": {
   "codemirror_mode": {
    "name": "ipython",
    "version": 3
   },
   "file_extension": ".py",
   "mimetype": "text/x-python",
   "name": "python",
   "nbconvert_exporter": "python",
   "pygments_lexer": "ipython3",
   "version": "3.11.4"
  }
 },
 "nbformat": 4,
 "nbformat_minor": 5
}
