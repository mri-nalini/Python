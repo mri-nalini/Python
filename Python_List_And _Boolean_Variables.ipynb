{
 "cells": [
  {
   "cell_type": "markdown",
   "id": "f0842afb",
   "metadata": {},
   "source": [
    "Why python?\n",
    "- Python is easy to use.\n",
    "- implement with less line of code. \n",
    "- it supports many libraries and frameworks(nummy,pandas,scikitslearn,matplotlib,seaborn)\n",
    "- can be used for Python a wide variety of tasks, including web development, data science, machine learning, and artificial intelligence.\n",
    "- it has community and corporate support.\n"
   ]
  },
  {
   "cell_type": "markdown",
   "id": "6a1b9bc6",
   "metadata": {},
   "source": [
    "#### Python data Structures and boolean "
   ]
  },
  {
   "cell_type": "markdown",
   "id": "ab630641",
   "metadata": {},
   "source": [
    "- boolean\n",
    "- boolean and logical operators\n",
    "- lists\n",
    "- comparison operators \n",
    "- dictionaries\n",
    "- tuples\n",
    "- sets "
   ]
  },
  {
   "cell_type": "markdown",
   "id": "ce975830",
   "metadata": {},
   "source": [
    "#### Boolean variables: \n",
    "- Boolean values are the two constant objects false and true.\n",
    "- They are used to represent truth values(other values can also be considered false or true)\n",
    "- In numeric contexts (for example, when used as the argument to an arthmetic operator), they behave like the integer 0 and 1.\n",
    "- the built-in function bool() can be used to cast any value to a Boolea, if the value can be interpreted as a truth value\n",
    "they are written as false and true\n"
   ]
  },
  {
   "cell_type": "code",
   "execution_count": 1,
   "id": "27add3c9",
   "metadata": {},
   "outputs": [
    {
     "name": "stdout",
     "output_type": "stream",
     "text": [
      "True False\n"
     ]
    }
   ],
   "source": [
    "print(True,False)"
   ]
  },
  {
   "cell_type": "code",
   "execution_count": 2,
   "id": "555739f2",
   "metadata": {},
   "outputs": [
    {
     "data": {
      "text/plain": [
       "bool"
      ]
     },
     "execution_count": 2,
     "metadata": {},
     "output_type": "execute_result"
    }
   ],
   "source": [
    "type(True)"
   ]
  },
  {
   "cell_type": "code",
   "execution_count": 3,
   "id": "79786e3f",
   "metadata": {},
   "outputs": [
    {
     "name": "stdout",
     "output_type": "stream",
     "text": [
      "True\n",
      "False\n",
      "True\n",
      "False\n",
      "False\n",
      "False\n",
      "False\n",
      "True\n",
      "True\n"
     ]
    }
   ],
   "source": [
    "str=\"MrinaliniDas17r\"\n",
    "print(str.isalnum()) #check if all char are numbers\n",
    "print(str.isalpha()) #check if all char in the string are alpha\n",
    "print(str.isascii()) #test if all char are in ascii\n",
    "print(str.islower()) #test if all char is in lower case\n",
    "print(str.isupper()) #test if all char is in upper case \n",
    "print(str.istitle()) #test if string contains title words\n",
    "print(str.isspace()) #test if string contains space\n",
    "print(str.endswith('r')) #test if string ends with r\n",
    "print(str.startswith('M'))#test if string starts with M \n",
    "\n",
    "\n"
   ]
  },
  {
   "cell_type": "code",
   "execution_count": 4,
   "id": "73715008",
   "metadata": {},
   "outputs": [
    {
     "name": "stdout",
     "output_type": "stream",
     "text": [
      "The string starts with M and ends with s: Mrinalini Das\n"
     ]
    }
   ],
   "source": [
    "a = \"Mrinalini Das\"  # or any other string you want to test\n",
    "\n",
    "if a.startswith('M') and a.endswith('s'):\n",
    "    print('The string starts with M and ends with s: {}'.format(a))\n",
    "else:\n",
    "    print('The string does not meet the criteria.')"
   ]
  },
  {
   "cell_type": "markdown",
   "id": "9c086598",
   "metadata": {},
   "source": [
    "#### Lists"
   ]
  },
  {
   "cell_type": "markdown",
   "id": "2313f382",
   "metadata": {},
   "source": [
    "- mutable\n",
    "- changeable\n",
    "- ordered sequence of elements.\n",
    "\n",
    "* each element or value that is inside of a list is called an item.\n",
    "- we use []\n"
   ]
  },
  {
   "cell_type": "code",
   "execution_count": 5,
   "id": "808da843",
   "metadata": {},
   "outputs": [],
   "source": [
    "list=[]"
   ]
  },
  {
   "cell_type": "code",
   "execution_count": 6,
   "id": "8c14241b",
   "metadata": {},
   "outputs": [
    {
     "data": {
      "text/plain": [
       "list"
      ]
     },
     "execution_count": 6,
     "metadata": {},
     "output_type": "execute_result"
    }
   ],
   "source": [
    "type(list)"
   ]
  },
  {
   "cell_type": "code",
   "execution_count": 7,
   "id": "467e7356",
   "metadata": {},
   "outputs": [],
   "source": [
    "lst=['math','chemistry',10,20]"
   ]
  },
  {
   "cell_type": "code",
   "execution_count": 8,
   "id": "89a6159b",
   "metadata": {},
   "outputs": [
    {
     "data": {
      "text/plain": [
       "list"
      ]
     },
     "execution_count": 8,
     "metadata": {},
     "output_type": "execute_result"
    }
   ],
   "source": [
    "type(lst)"
   ]
  },
  {
   "cell_type": "markdown",
   "id": "b1e19ae4",
   "metadata": {},
   "source": [
    "#### append"
   ]
  },
  {
   "cell_type": "code",
   "execution_count": 9,
   "id": "f554f7c8",
   "metadata": {},
   "outputs": [
    {
     "data": {
      "text/plain": [
       "['math', 'chemistry', 10, 20, 'mrinal']"
      ]
     },
     "execution_count": 9,
     "metadata": {},
     "output_type": "execute_result"
    }
   ],
   "source": [
    "lst.append(\"mrinal\")\n",
    "lst"
   ]
  },
  {
   "cell_type": "code",
   "execution_count": 10,
   "id": "87b99eab",
   "metadata": {},
   "outputs": [
    {
     "data": {
      "text/plain": [
       "['math']"
      ]
     },
     "execution_count": 10,
     "metadata": {},
     "output_type": "execute_result"
    }
   ],
   "source": [
    "lst[:1]"
   ]
  },
  {
   "cell_type": "code",
   "execution_count": 11,
   "id": "f1916a5d",
   "metadata": {},
   "outputs": [
    {
     "data": {
      "text/plain": [
       "['chemistry', 10, 20, 'mrinal']"
      ]
     },
     "execution_count": 11,
     "metadata": {},
     "output_type": "execute_result"
    }
   ],
   "source": [
    "#from first element till last\n",
    "lst[1:]"
   ]
  },
  {
   "cell_type": "code",
   "execution_count": 12,
   "id": "1cdcd3dd",
   "metadata": {},
   "outputs": [
    {
     "data": {
      "text/plain": [
       "['chemistry', 10, 20]"
      ]
     },
     "execution_count": 12,
     "metadata": {},
     "output_type": "execute_result"
    }
   ],
   "source": [
    "#from last element till first\n",
    "lst[1:4]"
   ]
  },
  {
   "cell_type": "markdown",
   "id": "5019ca91",
   "metadata": {},
   "source": [
    "#### Insert"
   ]
  },
  {
   "cell_type": "code",
   "execution_count": 13,
   "id": "2ca81d68",
   "metadata": {},
   "outputs": [],
   "source": [
    "\n",
    "lst.insert(2,\"computer\")"
   ]
  },
  {
   "cell_type": "code",
   "execution_count": 14,
   "id": "d268dd23",
   "metadata": {},
   "outputs": [
    {
     "data": {
      "text/plain": [
       "['math', 'chemistry', 'computer', 10, 20, 'mrinal']"
      ]
     },
     "execution_count": 14,
     "metadata": {},
     "output_type": "execute_result"
    }
   ],
   "source": [
    "lst"
   ]
  },
  {
   "cell_type": "markdown",
   "id": "d7210c12",
   "metadata": {},
   "source": [
    "#### extend"
   ]
  },
  {
   "cell_type": "code",
   "execution_count": 15,
   "id": "58318bb7",
   "metadata": {},
   "outputs": [],
   "source": [
    "lst.extend([8,9])"
   ]
  },
  {
   "cell_type": "code",
   "execution_count": 16,
   "id": "05642418",
   "metadata": {},
   "outputs": [
    {
     "data": {
      "text/plain": [
       "['math', 'chemistry', 'computer', 10, 20, 'mrinal', 8, 9]"
      ]
     },
     "execution_count": 16,
     "metadata": {},
     "output_type": "execute_result"
    }
   ],
   "source": [
    "lst"
   ]
  },
  {
   "cell_type": "code",
   "execution_count": 17,
   "id": "367b8542",
   "metadata": {},
   "outputs": [
    {
     "data": {
      "text/plain": [
       "15"
      ]
     },
     "execution_count": 17,
     "metadata": {},
     "output_type": "execute_result"
    }
   ],
   "source": [
    "l=[1,2,3,4,5]\n",
    "sum(l)"
   ]
  },
  {
   "cell_type": "markdown",
   "id": "ed257200",
   "metadata": {},
   "source": [
    "#### pop() Method "
   ]
  },
  {
   "cell_type": "code",
   "execution_count": 18,
   "id": "ceb8e86d",
   "metadata": {},
   "outputs": [
    {
     "data": {
      "text/plain": [
       "9"
      ]
     },
     "execution_count": 18,
     "metadata": {},
     "output_type": "execute_result"
    }
   ],
   "source": [
    "lst.pop()"
   ]
  },
  {
   "cell_type": "code",
   "execution_count": 19,
   "id": "a318a845",
   "metadata": {},
   "outputs": [
    {
     "data": {
      "text/plain": [
       "['math', 'chemistry', 'computer', 10, 20, 'mrinal', 8]"
      ]
     },
     "execution_count": 19,
     "metadata": {},
     "output_type": "execute_result"
    }
   ],
   "source": [
    "lst"
   ]
  },
  {
   "cell_type": "code",
   "execution_count": 21,
   "id": "532e47a3",
   "metadata": {},
   "outputs": [
    {
     "data": {
      "text/plain": [
       "['chemistry', 'computer', 10, 20, 'mrinal', 8]"
      ]
     },
     "execution_count": 21,
     "metadata": {},
     "output_type": "execute_result"
    }
   ],
   "source": [
    "lst.pop(0)\n",
    "lst"
   ]
  },
  {
   "cell_type": "markdown",
   "id": "5f2aa636",
   "metadata": {},
   "source": [
    "#### Count() : calculates total occurences of given element of list"
   ]
  },
  {
   "cell_type": "code",
   "execution_count": 23,
   "id": "8f243509",
   "metadata": {},
   "outputs": [
    {
     "data": {
      "text/plain": [
       "2"
      ]
     },
     "execution_count": 23,
     "metadata": {},
     "output_type": "execute_result"
    }
   ],
   "source": [
    "lst=[1,1,2,3,4,5]\n",
    "lst.count(1) #tells the number of occurence"
   ]
  },
  {
   "cell_type": "code",
   "execution_count": 25,
   "id": "6d26172f",
   "metadata": {},
   "outputs": [
    {
     "data": {
      "text/plain": [
       "6"
      ]
     },
     "execution_count": 25,
     "metadata": {},
     "output_type": "execute_result"
    }
   ],
   "source": [
    "len(lst) #calculates the total lenght of list "
   ]
  },
  {
   "cell_type": "code",
   "execution_count": 28,
   "id": "62cca3b8",
   "metadata": {},
   "outputs": [
    {
     "ename": "ValueError",
     "evalue": "1 is not in list",
     "output_type": "error",
     "traceback": [
      "\u001b[1;31m---------------------------------------------------------------------------\u001b[0m",
      "\u001b[1;31mValueError\u001b[0m                                Traceback (most recent call last)",
      "Cell \u001b[1;32mIn[28], line 3\u001b[0m\n\u001b[0;32m      1\u001b[0m \u001b[38;5;66;03m#index(): Returns the index of first occurence. Start and end index are not \u001b[39;00m\n\u001b[0;32m      2\u001b[0m \u001b[38;5;66;03m#necessary parameters\u001b[39;00m\n\u001b[1;32m----> 3\u001b[0m lst\u001b[38;5;241m.\u001b[39mindex(\u001b[38;5;241m1\u001b[39m,\u001b[38;5;241m2\u001b[39m)\n",
      "\u001b[1;31mValueError\u001b[0m: 1 is not in list"
     ]
    }
   ],
   "source": [
    "#index(): Returns the index of first occurence. Start and end index are not \n",
    "#necessary parameters\n",
    "lst.index(1,) #first element is the value "
   ]
  },
  {
   "cell_type": "code",
   "execution_count": null,
   "id": "eb6d50ce",
   "metadata": {},
   "outputs": [],
   "source": []
  },
  {
   "cell_type": "code",
   "execution_count": null,
   "id": "9dfe1a45",
   "metadata": {},
   "outputs": [],
   "source": []
  },
  {
   "cell_type": "code",
   "execution_count": null,
   "id": "92a37c92",
   "metadata": {},
   "outputs": [],
   "source": []
  },
  {
   "cell_type": "code",
   "execution_count": null,
   "id": "85e8cebb",
   "metadata": {},
   "outputs": [],
   "source": []
  },
  {
   "cell_type": "code",
   "execution_count": null,
   "id": "24d99e3b",
   "metadata": {},
   "outputs": [],
   "source": []
  },
  {
   "cell_type": "code",
   "execution_count": null,
   "id": "03b314a7",
   "metadata": {},
   "outputs": [],
   "source": []
  },
  {
   "cell_type": "code",
   "execution_count": null,
   "id": "080f7116",
   "metadata": {},
   "outputs": [],
   "source": []
  },
  {
   "cell_type": "code",
   "execution_count": null,
   "id": "e4212e77",
   "metadata": {},
   "outputs": [],
   "source": []
  }
 ],
 "metadata": {
  "kernelspec": {
   "display_name": "Python 3 (ipykernel)",
   "language": "python",
   "name": "python3"
  },
  "language_info": {
   "codemirror_mode": {
    "name": "ipython",
    "version": 3
   },
   "file_extension": ".py",
   "mimetype": "text/x-python",
   "name": "python",
   "nbconvert_exporter": "python",
   "pygments_lexer": "ipython3",
   "version": "3.11.4"
  }
 },
 "nbformat": 4,
 "nbformat_minor": 5
}
