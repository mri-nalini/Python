{
 "cells": [
  {
   "cell_type": "markdown",
   "id": "dcd4242d",
   "metadata": {},
   "source": [
    "### Keywords\n",
    "* Python is case sensitive programming language"
   ]
  },
  {
   "cell_type": "markdown",
   "id": "87ddb994",
   "metadata": {},
   "source": [
    "In programming, a keyword is a word that is reserved  by a program because the word has a special meaning.\n",
    "Keywords can be commands or parameters. Every programming language has a set of keywords that cannot be used as variable names."
   ]
  },
  {
   "cell_type": "code",
   "execution_count": 1,
   "id": "204039d1",
   "metadata": {},
   "outputs": [
    {
     "name": "stdout",
     "output_type": "stream",
     "text": [
      "['False', 'None', 'True', 'and', 'as', 'assert', 'async', 'await', 'break', 'class', 'continue', 'def', 'del', 'elif', 'else', 'except', 'finally', 'for', 'from', 'global', 'if', 'import', 'in', 'is', 'lambda', 'nonlocal', 'not', 'or', 'pass', 'raise', 'return', 'try', 'while', 'with', 'yield']\n"
     ]
    }
   ],
   "source": [
    "# python has 33 keywords\n",
    "\n",
    "import keyword\n",
    "print(keyword.kwlist)"
   ]
  },
  {
   "cell_type": "markdown",
   "id": "b4279348",
   "metadata": {},
   "source": [
    "### identifiers"
   ]
  },
  {
   "cell_type": "markdown",
   "id": "bd7f337b",
   "metadata": {},
   "source": [
    "A python identifiers is a name used to identify a variable, function, class, module or the other object. "
   ]
  },
  {
   "cell_type": "markdown",
   "id": "828df39e",
   "metadata": {},
   "source": [
    "Rules :-"
   ]
  },
  {
   "cell_type": "markdown",
   "id": "33277f64",
   "metadata": {},
   "source": [
    "* can only start with an alphabet or _\n",
    "* Followed by 0 or more letter, __ or digits.\n",
    "* keywords cannot be used as an identifiers"
   ]
  },
  {
   "cell_type": "code",
   "execution_count": 3,
   "id": "ba5f8b32",
   "metadata": {},
   "outputs": [
    {
     "name": "stdout",
     "output_type": "stream",
     "text": [
      "Mrinalini\n"
     ]
    }
   ],
   "source": [
    "first_name = \"Mrinalini\"\n",
    "print(first_name)"
   ]
  },
  {
   "cell_type": "code",
   "execution_count": 4,
   "id": "42199067",
   "metadata": {},
   "outputs": [
    {
     "ename": "SyntaxError",
     "evalue": "cannot assign to expression here. Maybe you meant '==' instead of '='? (2228834078.py, line 2)",
     "output_type": "error",
     "traceback": [
      "\u001b[1;36m  Cell \u001b[1;32mIn[4], line 2\u001b[1;36m\u001b[0m\n\u001b[1;33m    first-name = \"Mrinalini\"\u001b[0m\n\u001b[1;37m    ^\u001b[0m\n\u001b[1;31mSyntaxError\u001b[0m\u001b[1;31m:\u001b[0m cannot assign to expression here. Maybe you meant '==' instead of '='?\n"
     ]
    }
   ],
   "source": [
    "#NOT ALLOWED\n",
    "first-name = \"Mrinalini\"\n",
    "print(first-name)"
   ]
  },
  {
   "cell_type": "code",
   "execution_count": 5,
   "id": "ec757f59",
   "metadata": {},
   "outputs": [
    {
     "name": "stdout",
     "output_type": "stream",
     "text": [
      "Mrinalini\n"
     ]
    }
   ],
   "source": [
    "#valid\n",
    "_ = \"Mrinalini\"\n",
    "print(_)"
   ]
  },
  {
   "cell_type": "code",
   "execution_count": 7,
   "id": "9fadb9f0",
   "metadata": {},
   "outputs": [
    {
     "ename": "SyntaxError",
     "evalue": "cannot assign to False (444937449.py, line 2)",
     "output_type": "error",
     "traceback": [
      "\u001b[1;36m  Cell \u001b[1;32mIn[7], line 2\u001b[1;36m\u001b[0m\n\u001b[1;33m    False = \"Mrinalini\"\u001b[0m\n\u001b[1;37m    ^\u001b[0m\n\u001b[1;31mSyntaxError\u001b[0m\u001b[1;31m:\u001b[0m cannot assign to False\n"
     ]
    }
   ],
   "source": [
    "#NOT valid\n",
    "False = \"Mrinalini\"\n",
    "print(False)"
   ]
  },
  {
   "cell_type": "code",
   "execution_count": null,
   "id": "1fad97be",
   "metadata": {},
   "outputs": [],
   "source": []
  }
 ],
 "metadata": {
  "kernelspec": {
   "display_name": "Python 3 (ipykernel)",
   "language": "python",
   "name": "python3"
  },
  "language_info": {
   "codemirror_mode": {
    "name": "ipython",
    "version": 3
   },
   "file_extension": ".py",
   "mimetype": "text/x-python",
   "name": "python",
   "nbconvert_exporter": "python",
   "pygments_lexer": "ipython3",
   "version": "3.11.4"
  }
 },
 "nbformat": 4,
 "nbformat_minor": 5
}
